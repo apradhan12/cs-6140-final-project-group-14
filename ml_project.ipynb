{
 "cells": [
  {
   "cell_type": "code",
   "execution_count": 212,
   "metadata": {
    "collapsed": true,
    "ExecuteTime": {
     "end_time": "2023-12-06T02:34:14.978658Z",
     "start_time": "2023-12-06T02:34:14.637506Z"
    }
   },
   "outputs": [],
   "source": [
    "import gensim.downloader as api\n",
    "import math\n",
    "import matplotlib.pyplot as plt\n",
    "import numpy as np\n",
    "import os\n",
    "import pandas as pd\n",
    "import re\n",
    "import seaborn as sns\n",
    "\n",
    "from collections import Counter\n",
    "from gensim.models import KeyedVectors\n",
    "from joblib import dump, load\n",
    "from keras.callbacks import EarlyStopping\n",
    "from keras.layers import Dense, Dropout, Embedding, Flatten\n",
    "from keras.models import Sequential\n",
    "from keras.optimizers.legacy import Adam\n",
    "from keras.preprocessing.sequence import pad_sequences\n",
    "from keras.preprocessing.text import Tokenizer\n",
    "from keras.regularizers import l2\n",
    "from nltk.corpus import stopwords\n",
    "from nltk.stem import WordNetLemmatizer\n",
    "from scikeras.wrappers import KerasClassifier\n",
    "from sklearn import svm\n",
    "from sklearn.ensemble import RandomForestClassifier\n",
    "from sklearn.model_selection import GridSearchCV, StratifiedKFold, cross_val_score\n",
    "from sklearn.linear_model import LogisticRegression\n",
    "from sklearn.metrics import classification_report, confusion_matrix"
   ]
  },
  {
   "cell_type": "code",
   "execution_count": 2,
   "outputs": [
    {
     "name": "stdout",
     "output_type": "stream",
     "text": [
      "/Users/aaron.pradhan/gensim-data/word2vec-google-news-300/word2vec-google-news-300.gz\n"
     ]
    }
   ],
   "source": [
    "word2vec_model = api.load(\"word2vec-google-news-300\", return_path=True)\n",
    "print(word2vec_model)"
   ],
   "metadata": {
    "collapsed": false,
    "ExecuteTime": {
     "end_time": "2023-12-05T20:48:14.545100Z",
     "start_time": "2023-12-05T20:48:13.909936Z"
    }
   }
  },
  {
   "cell_type": "code",
   "execution_count": 3,
   "outputs": [],
   "source": [
    "# Load the actual model from the saved file path\n",
    "model = KeyedVectors.load_word2vec_format(word2vec_model, binary=True)"
   ],
   "metadata": {
    "collapsed": false,
    "ExecuteTime": {
     "end_time": "2023-12-05T20:48:30.827560Z",
     "start_time": "2023-12-05T20:48:14.542823Z"
    }
   }
  },
  {
   "cell_type": "code",
   "execution_count": 4,
   "outputs": [
    {
     "name": "stdout",
     "output_type": "stream",
     "text": [
      "Bromwell High is a cartoon comedy. It ran at the same time as some other programs about school life, such as \"Teachers\". My 35 years in the teaching profession lead me to believe that Bromwell High's satire is much closer to reality than is \"Teachers\". The scramble to survive financially, the insightful students who can see right through their pathetic teachers' pomp, the pettiness of the whole situation, all remind me of the schools I knew and their students. When I saw the episode in which a student repeatedly tried to burn down the school, I immediately recalled ......... at .......... High. A classic line: INSPECTOR: I'm here to sack one of your teachers. STUDENT: Welcome to Bromwell High. I expect that many adults of my age think that Bromwell High is far fetched. What a pity that it isn't!\n"
     ]
    }
   ],
   "source": [
    "with open(\"imdb/train/pos/0_9.txt\") as f:\n",
    "    print(f.read())"
   ],
   "metadata": {
    "collapsed": false,
    "ExecuteTime": {
     "end_time": "2023-12-05T20:48:30.827798Z",
     "start_time": "2023-12-05T20:48:30.825070Z"
    }
   }
  },
  {
   "cell_type": "code",
   "execution_count": 5,
   "outputs": [
    {
     "name": "stdout",
     "output_type": "stream",
     "text": [
      "12500\n",
      "12500\n",
      "12500\n",
      "12500\n"
     ]
    }
   ],
   "source": [
    "def read_files_from_directory(directory_path):\n",
    "    file_contents = []\n",
    "    for filename in os.listdir(directory_path):\n",
    "        filepath = os.path.join(directory_path, filename)\n",
    "        with open(filepath, 'r', encoding='utf-8') as file:\n",
    "            file_contents.append(file.read())\n",
    "    return file_contents\n",
    "\n",
    "positive_train_samples = read_files_from_directory(\"imdb/train/pos/\")\n",
    "negative_train_samples = read_files_from_directory(\"imdb/train/neg/\")\n",
    "positive_test_samples = read_files_from_directory(\"imdb/test/pos/\")\n",
    "negative_test_samples = read_files_from_directory(\"imdb/test/neg/\")\n",
    "\n",
    "print(len(positive_train_samples))\n",
    "print(len(negative_train_samples))\n",
    "print(len(positive_test_samples))\n",
    "print(len(negative_test_samples))"
   ],
   "metadata": {
    "collapsed": false,
    "ExecuteTime": {
     "end_time": "2023-12-05T20:48:39.950311Z",
     "start_time": "2023-12-05T20:48:30.848240Z"
    }
   }
  },
  {
   "cell_type": "code",
   "execution_count": 6,
   "outputs": [
    {
     "data": {
      "text/plain": "                                                  review  label\n0      This is the worst sequel on the face of the wo...      0\n1      I really love this movie. I remember one time ...      1\n2      I know the people and I did some of the animat...      0\n3      A group of extremely unlikable A-holes are tor...      0\n4      An excellent documentry. I personally remember...      1\n...                                                  ...    ...\n24995  This series would have been a lot better if th...      0\n24996  Whale-hunters pick on the wrong freaking whale...      0\n24997  This is a terrible movie, terrible script, bad...      0\n24998  Sidney Young (Pegg) moves from England to New ...      1\n24999  OK, here is my personal list of top Nicktoons ...      1\n\n[25000 rows x 2 columns]",
      "text/html": "<div>\n<style scoped>\n    .dataframe tbody tr th:only-of-type {\n        vertical-align: middle;\n    }\n\n    .dataframe tbody tr th {\n        vertical-align: top;\n    }\n\n    .dataframe thead th {\n        text-align: right;\n    }\n</style>\n<table border=\"1\" class=\"dataframe\">\n  <thead>\n    <tr style=\"text-align: right;\">\n      <th></th>\n      <th>review</th>\n      <th>label</th>\n    </tr>\n  </thead>\n  <tbody>\n    <tr>\n      <th>0</th>\n      <td>This is the worst sequel on the face of the wo...</td>\n      <td>0</td>\n    </tr>\n    <tr>\n      <th>1</th>\n      <td>I really love this movie. I remember one time ...</td>\n      <td>1</td>\n    </tr>\n    <tr>\n      <th>2</th>\n      <td>I know the people and I did some of the animat...</td>\n      <td>0</td>\n    </tr>\n    <tr>\n      <th>3</th>\n      <td>A group of extremely unlikable A-holes are tor...</td>\n      <td>0</td>\n    </tr>\n    <tr>\n      <th>4</th>\n      <td>An excellent documentry. I personally remember...</td>\n      <td>1</td>\n    </tr>\n    <tr>\n      <th>...</th>\n      <td>...</td>\n      <td>...</td>\n    </tr>\n    <tr>\n      <th>24995</th>\n      <td>This series would have been a lot better if th...</td>\n      <td>0</td>\n    </tr>\n    <tr>\n      <th>24996</th>\n      <td>Whale-hunters pick on the wrong freaking whale...</td>\n      <td>0</td>\n    </tr>\n    <tr>\n      <th>24997</th>\n      <td>This is a terrible movie, terrible script, bad...</td>\n      <td>0</td>\n    </tr>\n    <tr>\n      <th>24998</th>\n      <td>Sidney Young (Pegg) moves from England to New ...</td>\n      <td>1</td>\n    </tr>\n    <tr>\n      <th>24999</th>\n      <td>OK, here is my personal list of top Nicktoons ...</td>\n      <td>1</td>\n    </tr>\n  </tbody>\n</table>\n<p>25000 rows × 2 columns</p>\n</div>"
     },
     "execution_count": 6,
     "metadata": {},
     "output_type": "execute_result"
    }
   ],
   "source": [
    "# Combine and label data\n",
    "train_data = positive_train_samples + negative_train_samples\n",
    "train_labels = [1] * len(positive_train_samples) + [0] * len(negative_train_samples)\n",
    "\n",
    "test_data = positive_test_samples + negative_test_samples\n",
    "test_labels = [1] * len(positive_test_samples) + [0] * len(negative_test_samples)\n",
    "\n",
    "train_df = pd.DataFrame({'review': train_data, 'label': train_labels})\n",
    "test_df = pd.DataFrame({'review': test_data, 'label': test_labels})\n",
    "\n",
    "# Randomize order of samples\n",
    "randomized_train_df = train_df.sample(frac=1).reset_index(drop=True)\n",
    "randomized_test_df = test_df.sample(frac=1).reset_index(drop=True)\n",
    "\n",
    "randomized_train_df"
   ],
   "metadata": {
    "collapsed": false,
    "ExecuteTime": {
     "end_time": "2023-12-05T20:48:39.987988Z",
     "start_time": "2023-12-05T20:48:39.952554Z"
    }
   }
  },
  {
   "cell_type": "code",
   "execution_count": 7,
   "outputs": [
    {
     "data": {
      "text/plain": "                                                  review  label\n0      An entertaining first draft for \"North By Nort...      1\n1      as a former TV editor, I can say this is as au...      1\n2      A dull stroll through the banalities of Mormon...      0\n3      \"Tenchi Muyo In Love 2\" is the third Tenchi mo...      0\n4      A blaxploitation classic, this movie was terri...      1\n...                                                  ...    ...\n24995  I tuned in to this movie because there was not...      1\n24996  I am surprised that this, well above average 8...      1\n24997  I do not think that this movie deserves the lo...      1\n24998  Silly comedy casts an embarrassed-seeming Ray ...      0\n24999  I see that C. Thomas Howell has appeared in ma...      0\n\n[25000 rows x 2 columns]",
      "text/html": "<div>\n<style scoped>\n    .dataframe tbody tr th:only-of-type {\n        vertical-align: middle;\n    }\n\n    .dataframe tbody tr th {\n        vertical-align: top;\n    }\n\n    .dataframe thead th {\n        text-align: right;\n    }\n</style>\n<table border=\"1\" class=\"dataframe\">\n  <thead>\n    <tr style=\"text-align: right;\">\n      <th></th>\n      <th>review</th>\n      <th>label</th>\n    </tr>\n  </thead>\n  <tbody>\n    <tr>\n      <th>0</th>\n      <td>An entertaining first draft for \"North By Nort...</td>\n      <td>1</td>\n    </tr>\n    <tr>\n      <th>1</th>\n      <td>as a former TV editor, I can say this is as au...</td>\n      <td>1</td>\n    </tr>\n    <tr>\n      <th>2</th>\n      <td>A dull stroll through the banalities of Mormon...</td>\n      <td>0</td>\n    </tr>\n    <tr>\n      <th>3</th>\n      <td>\"Tenchi Muyo In Love 2\" is the third Tenchi mo...</td>\n      <td>0</td>\n    </tr>\n    <tr>\n      <th>4</th>\n      <td>A blaxploitation classic, this movie was terri...</td>\n      <td>1</td>\n    </tr>\n    <tr>\n      <th>...</th>\n      <td>...</td>\n      <td>...</td>\n    </tr>\n    <tr>\n      <th>24995</th>\n      <td>I tuned in to this movie because there was not...</td>\n      <td>1</td>\n    </tr>\n    <tr>\n      <th>24996</th>\n      <td>I am surprised that this, well above average 8...</td>\n      <td>1</td>\n    </tr>\n    <tr>\n      <th>24997</th>\n      <td>I do not think that this movie deserves the lo...</td>\n      <td>1</td>\n    </tr>\n    <tr>\n      <th>24998</th>\n      <td>Silly comedy casts an embarrassed-seeming Ray ...</td>\n      <td>0</td>\n    </tr>\n    <tr>\n      <th>24999</th>\n      <td>I see that C. Thomas Howell has appeared in ma...</td>\n      <td>0</td>\n    </tr>\n  </tbody>\n</table>\n<p>25000 rows × 2 columns</p>\n</div>"
     },
     "execution_count": 7,
     "metadata": {},
     "output_type": "execute_result"
    }
   ],
   "source": [
    "randomized_test_df"
   ],
   "metadata": {
    "collapsed": false,
    "ExecuteTime": {
     "end_time": "2023-12-05T20:48:39.988122Z",
     "start_time": "2023-12-05T20:48:39.978667Z"
    }
   }
  },
  {
   "cell_type": "code",
   "execution_count": 8,
   "outputs": [
    {
     "name": "stdout",
     "output_type": "stream",
     "text": [
      "Review 1:\n",
      "This is the worst sequel on the face of the world of movies. Once again it doesn't make since. The killer still kills for fun. But this time he is killing people that are making a movie about what happened in the first movie. Which means that it is the stupidest movie ever.<br /><br />Don't watch this. If you value the one precious hour during this movie then don't watch it. You'll want to ask the director and the person beside you what made him make it. Because it just doesn't combine the original makes of horror, action, and crime.<br /><br />Don't let your children watch this. Teenager, young child or young adult, this movie has that sorta impact upon people.\n",
      "====================\n",
      "Review 2:\n",
      "I really love this movie. I remember one time when I was in 2nd >grade, my teacher showed it to us on a 16mm film reel. This movie, however, can be a little frightening for 2nd graders such as the scene where Bill murders Nancy and seeing Fagin's face for the first time on the screen. One of my relatives is sick of seeing this movie because she studied over it in music class. If I were a teacher and could grade the people who produced this wonderful film, I would give them an A+.\n",
      "====================\n",
      "Review 3:\n",
      "I know the people and I did some of the animation and graphic design and the show is horrible! They are rich little kids who don't have any talent, and probably just begged Nick to accept them! Alex has played the drums for one yearm, I've played for 4 1/2! The movie is terrible and so is the show! This is the craziest most mixed up comedy that even isint funny I've ever seen. It is so stupid it makes me want to barf!!! It is just so crazy that Nickelodeon would ever accept something like this and so dumb! They are sooo stupid and weird! I hate them and their show and think once Nick realizes how stupid it is they will most hopefully take it off!\n",
      "====================\n",
      "Review 4:\n",
      "A group of extremely unlikable A-holes are tormented by lame puppets that some elderly douche bag night-watchman has kept locked away in a film vault for twenty years for no reason whatsoever.<br /><br />Many people know this film merely from MST3K's spot-on ribbing of the flick. But I've seen the actual movie and can safely say that yes it's bad, really, REALLY bad. From the one of the most awful 'fight' scenes I've ever witnessed to the stuffed toy 'aliens' that suffer from a lack of motion (I had a My Pet Monster that was scarier) right up to the atrocious acting (I had a My Pet Monster that was more charismatic) However, that being said Rick Sloan's \"Vice Academy\" films are somehow, and trust me I have no earthly idea how, much worse. That's not to suggest that this film is anything but crap, because it isn't. Just throwing it out there.<br /><br />Eye Candy: no nudity in the movie proper, but there's 2 pairs of tits in the DVD Introduction to the film <br /><br />My Grade: D- <br /><br />Retromedia DVD Extras: Introduction by Jim Wynorski; Stills gallery; and Trailer for this film\n",
      "====================\n",
      "Review 5:\n",
      "An excellent documentry. I personally remember this growing up in NYC in the early 80's. This movie is for anyone that wasn't around during that time period.This shows the one thing the African American Gay Underclass felt was solely theirs and the love and camadrie you see is real. The people are real and sadly few are still alive as this is being written. The balls are still held but not to the extent that they were in the the nineteen eighties. That time is gone forever. This is a good pre \"homo thug\" movie. When Queens were really proud to be extroverts. Goodbye to Storyville this is another era gone but greatly documented all hail film!\n",
      "====================\n",
      "Review 6:\n",
      "Three scumbags get their just deserts after wasting their lives in greed, drugs, ego, and bad attitudes. Interesting and well done; this style of film always makes me wonder where reality leaves off and imagination takes over. Even though these folks were the scum of the earth I still found myself pitying them. They never really stood much of a chance.\n",
      "====================\n",
      "Review 7:\n",
      "Cast to die for in a movie that is considerably less. Vanessa Redgrave is dying but before she goes she begins to tell her daughters the story of her life and of her secret love...<br /><br />This is one of those movies which has the look and expectations of being a great film simply because they have so many great actors and actresses in it so it seems to be about something other than the potboiler that it really is. Not bad as such but with Redgrave, Toni Collette, Glenn Close, Meryl Streep, Clare Danes,Natasha Richardson,Eileen Atkins, Patrick Wilson,Hugh Darcy and others (all giving fine performances) you expect more than a weepy story thats a bit more than a harlequin romance.<br /><br />Wait for Cable.\n",
      "====================\n",
      "Review 8:\n",
      "Awful movie. It's a shame that a few of Flanders's top actors and actresses made such a lamentably poor film.<br /><br />There is barely something changed since the first movie and the TV series: same actors, same prototype characters, same scenario (emotional complications, the team under emotional pressure but everything turn out tip-top after a predictable grand finale). Another constant fact in the work of Jan Verheyen is the exaggerated product placement (company logo's on the team's shirt and along side the pitch OK but two times a commercial (by one of the characters) about an internet provider is just over the top.<br /><br />Meanwhile, rumour has it about the making of a second series for Flanders commercial TV station 'VTM' (coincidental or not, the station where Jan Verheyen is programmation manager since a few months)<br /><br />To conclude ... and the golden raspberry award for worst foreign movie goes to ... Team Spirit 2\n",
      "====================\n",
      "Review 9:\n",
      "A number of posters have commented on the unsatisfactory conclusion. This is always a problem with long, complex dramas. Crime is essentially banal, so the pay off is always anti-climactic, whilst detailed exposition detracts from the human drama. The writer has used a number of clever devices to try and get round this, but has not been entirely successful. Answers to precisely what happened and why may have been supplied, but if so they are well buried. The viewer inevitably feels a little cheated.<br /><br />But in a sense this is unimportant. The drama was never about the crime, or even the investigation, it was about the impact of events on the lives of those involved; the family, the investigators, the witnesses, the press. And as such it was gripping. The writing was a significant cut above the run of the mill for prime-time drama, and the performances uniformly good. In an ensemble piece it is invidious to focus on individuals, but Penelope Wilton deserves special mention for an extraordinary tour de force as the mother-wife-daughter, and Janet McTeer was in cracking form as a hard-bitten old cop.<br /><br />One of the most interesting aspects of the drama is the handling of race, as the elephant in the room that no-one is prepared to mention. Subtle, powerful stuff.\n",
      "====================\n",
      "Review 10:\n",
      "It's made in 2007 and the CG is bad for a movie made in 1998. At one part in the movie there is a stop motion shot of a dinosaur that actually looks good, but this just makes the extremely amateur work on the CG stuff look even worse.<br /><br />The writing, acting, directing and everything else in this movie is just terrible. This is as bad as, if not worse than Raptor Island and 100 million BC... pure crap! Again, as with the other movies, the only scary part about this movie is that it actually got made and is now being aired on the sci-fi channel.<br /><br />I still can't understand how they somehow get people who do have some acting skills to act in these movies and then somehow get them to act as terrible as everyone else in the movie.<br /><br />For those of you who are unsure, the other poster is obviously being sarcastic in his review... or he is one of the people who worked on this movie.\n",
      "====================\n"
     ]
    }
   ],
   "source": [
    "# Get a sense of the review contents to determine what steps to include in preprocessing\n",
    "for i in range(10):\n",
    "    print(f\"Review {i + 1}:\")\n",
    "    print(randomized_train_df[\"review\"][i])\n",
    "    print(f\"{'=' * 20}\")"
   ],
   "metadata": {
    "collapsed": false,
    "ExecuteTime": {
     "end_time": "2023-12-05T20:48:39.988198Z",
     "start_time": "2023-12-05T20:48:39.981613Z"
    }
   }
  },
  {
   "cell_type": "code",
   "execution_count": 9,
   "outputs": [
    {
     "name": "stdout",
     "output_type": "stream",
     "text": [
      "Remember the chain-smoking channeler exposed on 60 Minutes a few years ago? This is her. Lots of folks reviewed this movie without checking the bona fides of the filmmakers. The producers have been using phony \"word of mouth\" promotions very successfully without disclosing the financial and philosophical underpinnings for this piece of marketing tripe. If you believe in channeling, reincarnation, new age dreck and day-old baloney, this film is for you. If you want a discussion of quantum physics or reality, look elsewhere. The purpose of this movie is to convince you that Ramtha isn't a wacko, so you'll give her a bunch of your money. If you can tiptoe through the Ramtha website without howling in disbelief, then maybe you'll think the bucks you dropped on this infomercial for insanity was well spent. <http://rogerebert.suntimes.com/apps/pbcs.dll/section?category=ANSWERMAN>\n",
      "-----\n",
      "> Contrary to most reviews I've read, I didn't feel this followed any of the other rock movies (\"Spinal Tap\", etc.) The story was more unique, although I feel most people wanted to see the \"sex, drugs & rock and roll\" vices that the band kept alluding to.<br /><br />> As an American, I knew a few of the actors - Spall, Connelly & Rea. Surprised to find out \"Brian\"/Bruce Robinson was in Zifferedi's (<sp?) classic \"Romeo & Juliet\". Guess I'll have to rent that next.<br /><br />> \"THE FLAME STILL BURNS\" - My wife, who hails from Mexico, didn't follow the English/British language too well, missed some of the jokes (which I dutifully explained) but she cried her eyes out at the concert scene. She loves the song so much now.<br /><br />> Funny that Amazon.com has the soundtrack for $30+usd when I bought the DVD in the bargain bin at Wal-Mart for $5.50usd. Price non-withstanding, I first saw this on late night cable and have been dying to find it ever since.\n",
      "-----\n",
      "Contains spoilers<br /><br />\"Hollow Man\" is probably the weakest movie that Paul Verhoeven, director of great movies like \"Total Recall\", \"Starship Troopers\" and \"Robocop\" has ever made. <br /><br />That's probably not his fault. For some reason, Verhoeven got stuck with an utterly mediocre script, and he made the best of it. <br /><br />The first part of this movie is rather good, with lots of cynical jokes, great special effects and even Skunk Anansie on the soundtrack. Unfortunately, the movie falls flat in the second part, were it degenerates into a standard slasher movie or maybe a very bad \"Alien\" clone. The ending is especially ridiculous <SPOILER>, as Kevin Bacon keeps coming back to life after a number of incidents that should (in the logical sense of the word) have killed him. </SPOILER>. And the entire thing is quite shallow, indeed: the subject of becoming invisible is never fully investigated.<br /><br />But all in all, Verhoeven manages to stay well above average with this movie. <br /><br />**1/2 out of **** stars\n",
      "-----\n",
      "Well, I guess I'm emotionally attached to this movie since it's the first one I went to see more than 10 times in the cinema ... helping me through my master's thesis, or rather keeping me from working on it!<br /><br />But on watching it again several years (and many many movies) later - what a well-crafted little gem this is! I've never seen Gwyneth Paltrow in a more convincing performance, and Jeremy Northam is the perfect Mr Knightley - where does one meet such a man??? <<<sigh>>> Sophie Thompson's turn as Ms Bates is virtuoso acting of the finest (oh, napkins, sorry!) and the rest of the cast is no disappointment either - Toni Colette brings a lot of Muriel to her Harriet, and Ewan McGregor is convincingly charming - and Alan Cumming and Juliet Stevenson are the perfect \"impossible\" couple!<br /><br />Of course the sets and costumes, and the beautiful soundtrack contribute a lot to the feelgood, almost Hobbiton-like atmosphere of the movie - although as far as cinematography and art decoration go, it's almost a case of visual overload. Very very pretty, but a little more austerity might have conveyed a better sense of period. But the good thing is, the movie doesn't take itself too seriously, and there is plenty of fun - and some pretty cool editing - that keep it from sinking into saccharine Merry Old England mode.<br /><br />My particular favorite is the ball scene - some beautiful acting and directing here, and the concluding dance summarizes the relationship between Emma and Mr Knightley just beautifully. Pity that the final proposal scene goes on for just a little too long - cut two shots (I can think of exactly which ones!) and it would have been much more in keeping with the rest of the movie.<br /><br />Gosh, I just realize (by reading the imdb listings) that I've seen Jeremy Northam in at least three movies without even being aware that it was him - seems he's got a lot more going for him, as an actor, than just being a gentlemanlike English heartthrob! Hmm, guess I need to pay my video store a visit...<br /><br />Lovely movie. My favorite Jane Austen adaptation so far - though perhaps Ang Lee's Sense and Sensibility is, strictly speaking, the better movie, this one is closest to my heart - and I've certainly seen it many more times! Watch it if you can - and don't be too hard on its little imperfections.<br /><br />\n",
      "-----\n",
      "An occasionally surrealistic thriller that will push most people's buttons., the 4th Man is sure to offend anyone with a taste for the politically correct. The story's protagonist is a bisexual alcoholic Catholic writer, Gerard (Krabbe), with a seriously twisted sense of imagination. Verhoeven offers up<br /><br />Gerard has an example of everything wrong with the modern man. He's shiftless, delusional, unable to control his urges, afraid to commit to<br /><br />meaningful relationships, and utterly apathetic about life in general. As the character himself states at one point, he is a professional liar, unable to recall the truth.<br /><br />The movie opens with Gerard dreaming of spiders consuming Christ, and then waking to begin the long march to his own destruction. He chases off<br /><br />one man (a boyfriend presumably), then chases another at a train station. Later, at a lecture, he meets a woman who seems to want to help him, or<br /><br />perhaps she has more nefarious plans.. She quickly captures Gerard in her web, enticing him with sex and money, having plenty of both. She's also got<br /><br />secrets, like three dead husbands. Is she lonely, and genuinely looking for someone to nurture - or is she a deadly black widow, luring Gerard to his<br /><br />death? Will Garard be the 4th man she kills? The woman is Christine (Soutendijk), and Verhoeven does his best to keep you guessing what she's up to.<br /><br />This is an interesting movie, with a lot of sex and intrigue. It's similar to Verhoeven's<em>Basic instinct</em>, but has a lot more depth, and is certainly more shocking. There's a lot of very strong gay content, which may make some viewers squirm. Highly recommended for fans of intelligent<br /><br />psychological thrillers, or anyone looking for something entirely new.\n",
      "-----\n"
     ]
    }
   ],
   "source": [
    "# The dataset contains many instances of line breaks encoded as <br />. We search for other HTML tags.\n",
    "\n",
    "# Regular expression to find other HTML tags (or things that look like HTML tags)\n",
    "regex_pattern = r'<(?!br|BR)[A-Za-z]+'\n",
    "\n",
    "# Filter the dataframe\n",
    "filtered_df = randomized_train_df[randomized_train_df['review'].str.contains(regex_pattern, na=False)]\n",
    "\n",
    "# Print the first 5 matching cells\n",
    "for review in filtered_df['review'].head(5):\n",
    "    print(review)\n",
    "    print(\"-----\")\n",
    "\n"
   ],
   "metadata": {
    "collapsed": false,
    "ExecuteTime": {
     "end_time": "2023-12-05T20:48:40.014511Z",
     "start_time": "2023-12-05T20:48:40.005480Z"
    }
   }
  },
  {
   "cell_type": "code",
   "execution_count": 10,
   "outputs": [
    {
     "name": "stdout",
     "output_type": "stream",
     "text": [
      "<br: 101870\n",
      "<i: 7\n",
      "<http: 1\n",
      "<sp: 1\n",
      "<SPOILER: 1\n",
      "<sigh: 1\n",
      "<em: 1\n",
      "<grin: 1\n",
      "<hr: 1\n"
     ]
    }
   ],
   "source": [
    "regex_pattern = r'<[A-Za-z]+'\n",
    "\n",
    "# Function to find all matches of the pattern in a text\n",
    "def find_matches(text):\n",
    "    return re.findall(regex_pattern, text)\n",
    "\n",
    "# Apply the function to each cell in the 'review' column and accumulate all matches\n",
    "all_matches = randomized_train_df['review'].apply(find_matches).sum()\n",
    "\n",
    "# Count the occurrences of each match\n",
    "match_counts = Counter(all_matches)\n",
    "\n",
    "# Get the top 10 most frequent matches\n",
    "top_10_matches = match_counts.most_common(10)\n",
    "\n",
    "# Display the top 10 matches and their counts\n",
    "for match, count in top_10_matches:\n",
    "    print(f\"{match}: {count}\")"
   ],
   "metadata": {
    "collapsed": false,
    "ExecuteTime": {
     "end_time": "2023-12-05T20:48:43.047555Z",
     "start_time": "2023-12-05T20:48:40.009001Z"
    }
   }
  },
  {
   "cell_type": "code",
   "execution_count": 11,
   "outputs": [],
   "source": [
    "X_train = randomized_train_df[\"review\"]\n",
    "y_train = randomized_train_df[\"label\"]\n",
    "X_test = randomized_test_df[\"review\"]\n",
    "y_test = randomized_test_df[\"label\"]"
   ],
   "metadata": {
    "collapsed": false,
    "ExecuteTime": {
     "end_time": "2023-12-05T20:48:43.047723Z",
     "start_time": "2023-12-05T20:48:43.041810Z"
    }
   }
  },
  {
   "cell_type": "code",
   "execution_count": 12,
   "outputs": [],
   "source": [
    "# Text Cleaning and Preprocessing\n",
    "stop_words = set(stopwords.words('english'))\n",
    "lemmatizer = WordNetLemmatizer()\n",
    "\n",
    "\n",
    "def preprocess(text):\n",
    "    # Remove break tags\n",
    "    text = re.sub(r'<br />', ' ', text)\n",
    "\n",
    "    # Convert to lowercase and remove special characters\n",
    "    text = re.sub(r'[^\\w\\s]', '', text.lower())\n",
    "\n",
    "    # Tokenize\n",
    "    words = text.split()\n",
    "\n",
    "    # Remove stop words and lemmatize\n",
    "    words = [lemmatizer.lemmatize(word) for word in words if word not in stop_words]\n",
    "\n",
    "    return words"
   ],
   "metadata": {
    "collapsed": false,
    "ExecuteTime": {
     "end_time": "2023-12-05T20:48:43.049792Z",
     "start_time": "2023-12-05T20:48:43.044674Z"
    }
   }
  },
  {
   "cell_type": "code",
   "execution_count": 13,
   "outputs": [],
   "source": [
    "def document_vector(doc):\n",
    "    # Remove out-of-vocabulary words\n",
    "    doc = [word for word in doc if word in model.key_to_index]\n",
    "    if len(doc) == 0:\n",
    "        # Embedding has 300 features\n",
    "        return np.zeros(model.vector_size)  # Return zero vector if doc is empty\n",
    "    # Take the mean of the embeddings to get the vector for the whole document\n",
    "    return np.mean(model[doc], axis=0)"
   ],
   "metadata": {
    "collapsed": false,
    "ExecuteTime": {
     "end_time": "2023-12-05T20:48:43.049888Z",
     "start_time": "2023-12-05T20:48:43.048097Z"
    }
   }
  },
  {
   "cell_type": "code",
   "execution_count": 14,
   "outputs": [],
   "source": [
    "# Apply preprocessing and vectorization\n",
    "X_train_vec = np.array([document_vector(preprocess(text)) for text in X_train])\n",
    "X_test_vec = np.array([document_vector(preprocess(text)) for text in X_test])"
   ],
   "metadata": {
    "collapsed": false,
    "ExecuteTime": {
     "end_time": "2023-12-05T20:49:01.240559Z",
     "start_time": "2023-12-05T20:48:43.050184Z"
    }
   }
  },
  {
   "cell_type": "code",
   "execution_count": 15,
   "outputs": [
    {
     "name": "stdout",
     "output_type": "stream",
     "text": [
      "(25000, 300)\n",
      "(25000, 300)\n"
     ]
    }
   ],
   "source": [
    "print(X_train_vec.shape)\n",
    "print(X_test_vec.shape)"
   ],
   "metadata": {
    "collapsed": false,
    "ExecuteTime": {
     "end_time": "2023-12-05T20:49:01.242655Z",
     "start_time": "2023-12-05T20:49:01.240841Z"
    }
   }
  },
  {
   "cell_type": "code",
   "execution_count": 16,
   "outputs": [
    {
     "data": {
      "text/plain": "array([[ 0.06935374, -0.01579895,  0.0732844 , ..., -0.05207858,\n         0.03828812, -0.02302768],\n       [ 0.06593085,  0.02957492,  0.02118463, ..., -0.04043037,\n         0.05446887, -0.00979106],\n       [ 0.01306367,  0.02822234,  0.01716507, ..., -0.09770712,\n         0.00121267, -0.01929902],\n       [ 0.04928667,  0.01618615, -0.03886639, ..., -0.0303572 ,\n        -0.0096462 ,  0.01746614],\n       [ 0.02450339,  0.03056502, -0.0060791 , ..., -0.04842585,\n         0.0122714 , -0.04327157]], dtype=float32)"
     },
     "execution_count": 16,
     "metadata": {},
     "output_type": "execute_result"
    }
   ],
   "source": [
    "X_train_vec[:5]"
   ],
   "metadata": {
    "collapsed": false,
    "ExecuteTime": {
     "end_time": "2023-12-05T20:49:01.246429Z",
     "start_time": "2023-12-05T20:49:01.243460Z"
    }
   }
  },
  {
   "cell_type": "code",
   "execution_count": 83,
   "outputs": [
    {
     "data": {
      "text/plain": "LogisticRegression(max_iter=1000)",
      "text/html": "<style>#sk-container-id-3 {color: black;}#sk-container-id-3 pre{padding: 0;}#sk-container-id-3 div.sk-toggleable {background-color: white;}#sk-container-id-3 label.sk-toggleable__label {cursor: pointer;display: block;width: 100%;margin-bottom: 0;padding: 0.3em;box-sizing: border-box;text-align: center;}#sk-container-id-3 label.sk-toggleable__label-arrow:before {content: \"▸\";float: left;margin-right: 0.25em;color: #696969;}#sk-container-id-3 label.sk-toggleable__label-arrow:hover:before {color: black;}#sk-container-id-3 div.sk-estimator:hover label.sk-toggleable__label-arrow:before {color: black;}#sk-container-id-3 div.sk-toggleable__content {max-height: 0;max-width: 0;overflow: hidden;text-align: left;background-color: #f0f8ff;}#sk-container-id-3 div.sk-toggleable__content pre {margin: 0.2em;color: black;border-radius: 0.25em;background-color: #f0f8ff;}#sk-container-id-3 input.sk-toggleable__control:checked~div.sk-toggleable__content {max-height: 200px;max-width: 100%;overflow: auto;}#sk-container-id-3 input.sk-toggleable__control:checked~label.sk-toggleable__label-arrow:before {content: \"▾\";}#sk-container-id-3 div.sk-estimator input.sk-toggleable__control:checked~label.sk-toggleable__label {background-color: #d4ebff;}#sk-container-id-3 div.sk-label input.sk-toggleable__control:checked~label.sk-toggleable__label {background-color: #d4ebff;}#sk-container-id-3 input.sk-hidden--visually {border: 0;clip: rect(1px 1px 1px 1px);clip: rect(1px, 1px, 1px, 1px);height: 1px;margin: -1px;overflow: hidden;padding: 0;position: absolute;width: 1px;}#sk-container-id-3 div.sk-estimator {font-family: monospace;background-color: #f0f8ff;border: 1px dotted black;border-radius: 0.25em;box-sizing: border-box;margin-bottom: 0.5em;}#sk-container-id-3 div.sk-estimator:hover {background-color: #d4ebff;}#sk-container-id-3 div.sk-parallel-item::after {content: \"\";width: 100%;border-bottom: 1px solid gray;flex-grow: 1;}#sk-container-id-3 div.sk-label:hover label.sk-toggleable__label {background-color: #d4ebff;}#sk-container-id-3 div.sk-serial::before {content: \"\";position: absolute;border-left: 1px solid gray;box-sizing: border-box;top: 0;bottom: 0;left: 50%;z-index: 0;}#sk-container-id-3 div.sk-serial {display: flex;flex-direction: column;align-items: center;background-color: white;padding-right: 0.2em;padding-left: 0.2em;position: relative;}#sk-container-id-3 div.sk-item {position: relative;z-index: 1;}#sk-container-id-3 div.sk-parallel {display: flex;align-items: stretch;justify-content: center;background-color: white;position: relative;}#sk-container-id-3 div.sk-item::before, #sk-container-id-3 div.sk-parallel-item::before {content: \"\";position: absolute;border-left: 1px solid gray;box-sizing: border-box;top: 0;bottom: 0;left: 50%;z-index: -1;}#sk-container-id-3 div.sk-parallel-item {display: flex;flex-direction: column;z-index: 1;position: relative;background-color: white;}#sk-container-id-3 div.sk-parallel-item:first-child::after {align-self: flex-end;width: 50%;}#sk-container-id-3 div.sk-parallel-item:last-child::after {align-self: flex-start;width: 50%;}#sk-container-id-3 div.sk-parallel-item:only-child::after {width: 0;}#sk-container-id-3 div.sk-dashed-wrapped {border: 1px dashed gray;margin: 0 0.4em 0.5em 0.4em;box-sizing: border-box;padding-bottom: 0.4em;background-color: white;}#sk-container-id-3 div.sk-label label {font-family: monospace;font-weight: bold;display: inline-block;line-height: 1.2em;}#sk-container-id-3 div.sk-label-container {text-align: center;}#sk-container-id-3 div.sk-container {/* jupyter's `normalize.less` sets `[hidden] { display: none; }` but bootstrap.min.css set `[hidden] { display: none !important; }` so we also need the `!important` here to be able to override the default hidden behavior on the sphinx rendered scikit-learn.org. See: https://github.com/scikit-learn/scikit-learn/issues/21755 */display: inline-block !important;position: relative;}#sk-container-id-3 div.sk-text-repr-fallback {display: none;}</style><div id=\"sk-container-id-3\" class=\"sk-top-container\"><div class=\"sk-text-repr-fallback\"><pre>LogisticRegression(max_iter=1000)</pre><b>In a Jupyter environment, please rerun this cell to show the HTML representation or trust the notebook. <br />On GitHub, the HTML representation is unable to render, please try loading this page with nbviewer.org.</b></div><div class=\"sk-container\" hidden><div class=\"sk-item\"><div class=\"sk-estimator sk-toggleable\"><input class=\"sk-toggleable__control sk-hidden--visually\" id=\"sk-estimator-id-3\" type=\"checkbox\" checked><label for=\"sk-estimator-id-3\" class=\"sk-toggleable__label sk-toggleable__label-arrow\">LogisticRegression</label><div class=\"sk-toggleable__content\"><pre>LogisticRegression(max_iter=1000)</pre></div></div></div></div></div>"
     },
     "execution_count": 83,
     "metadata": {},
     "output_type": "execute_result"
    }
   ],
   "source": [
    "lr_model = LogisticRegression(max_iter=1000)\n",
    "lr_model.fit(X_train_vec, y_train)"
   ],
   "metadata": {
    "collapsed": false,
    "ExecuteTime": {
     "end_time": "2023-12-02T21:30:53.794612Z",
     "start_time": "2023-12-02T21:30:52.601417Z"
    }
   }
  },
  {
   "cell_type": "code",
   "execution_count": 119,
   "outputs": [
    {
     "name": "stdout",
     "output_type": "stream",
     "text": [
      "Cross-validation scores: [0.851  0.8492 0.8492 0.8548 0.8554]\n"
     ]
    }
   ],
   "source": [
    "# Cross-Validation\n",
    "# Split the dataset into k=5 folds\n",
    "# Train the model on k-1 folds, evaluate on the remaining fold\n",
    "# Print accuracy for each model\n",
    "lr_scores = cross_val_score(lr_model, X_train_vec, y_train, cv=5)\n",
    "print(\"Cross-validation scores:\", lr_scores)"
   ],
   "metadata": {
    "collapsed": false,
    "ExecuteTime": {
     "end_time": "2023-12-03T20:03:06.703742Z",
     "start_time": "2023-12-03T20:03:03.802546Z"
    }
   }
  },
  {
   "cell_type": "code",
   "execution_count": 120,
   "outputs": [
    {
     "name": "stdout",
     "output_type": "stream",
     "text": [
      "Mean cross-validation score: 0.85192\n"
     ]
    }
   ],
   "source": [
    "print(f\"Mean cross-validation score: {np.mean(lr_scores)}\")"
   ],
   "metadata": {
    "collapsed": false,
    "ExecuteTime": {
     "end_time": "2023-12-03T20:03:08.967451Z",
     "start_time": "2023-12-03T20:03:08.961674Z"
    }
   }
  },
  {
   "cell_type": "code",
   "execution_count": null,
   "outputs": [],
   "source": [
    "# Support Vector Machine (SVM)"
   ],
   "metadata": {
    "collapsed": false
   }
  },
  {
   "cell_type": "code",
   "execution_count": 86,
   "outputs": [
    {
     "data": {
      "text/plain": "SVC(kernel='linear')",
      "text/html": "<style>#sk-container-id-4 {color: black;}#sk-container-id-4 pre{padding: 0;}#sk-container-id-4 div.sk-toggleable {background-color: white;}#sk-container-id-4 label.sk-toggleable__label {cursor: pointer;display: block;width: 100%;margin-bottom: 0;padding: 0.3em;box-sizing: border-box;text-align: center;}#sk-container-id-4 label.sk-toggleable__label-arrow:before {content: \"▸\";float: left;margin-right: 0.25em;color: #696969;}#sk-container-id-4 label.sk-toggleable__label-arrow:hover:before {color: black;}#sk-container-id-4 div.sk-estimator:hover label.sk-toggleable__label-arrow:before {color: black;}#sk-container-id-4 div.sk-toggleable__content {max-height: 0;max-width: 0;overflow: hidden;text-align: left;background-color: #f0f8ff;}#sk-container-id-4 div.sk-toggleable__content pre {margin: 0.2em;color: black;border-radius: 0.25em;background-color: #f0f8ff;}#sk-container-id-4 input.sk-toggleable__control:checked~div.sk-toggleable__content {max-height: 200px;max-width: 100%;overflow: auto;}#sk-container-id-4 input.sk-toggleable__control:checked~label.sk-toggleable__label-arrow:before {content: \"▾\";}#sk-container-id-4 div.sk-estimator input.sk-toggleable__control:checked~label.sk-toggleable__label {background-color: #d4ebff;}#sk-container-id-4 div.sk-label input.sk-toggleable__control:checked~label.sk-toggleable__label {background-color: #d4ebff;}#sk-container-id-4 input.sk-hidden--visually {border: 0;clip: rect(1px 1px 1px 1px);clip: rect(1px, 1px, 1px, 1px);height: 1px;margin: -1px;overflow: hidden;padding: 0;position: absolute;width: 1px;}#sk-container-id-4 div.sk-estimator {font-family: monospace;background-color: #f0f8ff;border: 1px dotted black;border-radius: 0.25em;box-sizing: border-box;margin-bottom: 0.5em;}#sk-container-id-4 div.sk-estimator:hover {background-color: #d4ebff;}#sk-container-id-4 div.sk-parallel-item::after {content: \"\";width: 100%;border-bottom: 1px solid gray;flex-grow: 1;}#sk-container-id-4 div.sk-label:hover label.sk-toggleable__label {background-color: #d4ebff;}#sk-container-id-4 div.sk-serial::before {content: \"\";position: absolute;border-left: 1px solid gray;box-sizing: border-box;top: 0;bottom: 0;left: 50%;z-index: 0;}#sk-container-id-4 div.sk-serial {display: flex;flex-direction: column;align-items: center;background-color: white;padding-right: 0.2em;padding-left: 0.2em;position: relative;}#sk-container-id-4 div.sk-item {position: relative;z-index: 1;}#sk-container-id-4 div.sk-parallel {display: flex;align-items: stretch;justify-content: center;background-color: white;position: relative;}#sk-container-id-4 div.sk-item::before, #sk-container-id-4 div.sk-parallel-item::before {content: \"\";position: absolute;border-left: 1px solid gray;box-sizing: border-box;top: 0;bottom: 0;left: 50%;z-index: -1;}#sk-container-id-4 div.sk-parallel-item {display: flex;flex-direction: column;z-index: 1;position: relative;background-color: white;}#sk-container-id-4 div.sk-parallel-item:first-child::after {align-self: flex-end;width: 50%;}#sk-container-id-4 div.sk-parallel-item:last-child::after {align-self: flex-start;width: 50%;}#sk-container-id-4 div.sk-parallel-item:only-child::after {width: 0;}#sk-container-id-4 div.sk-dashed-wrapped {border: 1px dashed gray;margin: 0 0.4em 0.5em 0.4em;box-sizing: border-box;padding-bottom: 0.4em;background-color: white;}#sk-container-id-4 div.sk-label label {font-family: monospace;font-weight: bold;display: inline-block;line-height: 1.2em;}#sk-container-id-4 div.sk-label-container {text-align: center;}#sk-container-id-4 div.sk-container {/* jupyter's `normalize.less` sets `[hidden] { display: none; }` but bootstrap.min.css set `[hidden] { display: none !important; }` so we also need the `!important` here to be able to override the default hidden behavior on the sphinx rendered scikit-learn.org. See: https://github.com/scikit-learn/scikit-learn/issues/21755 */display: inline-block !important;position: relative;}#sk-container-id-4 div.sk-text-repr-fallback {display: none;}</style><div id=\"sk-container-id-4\" class=\"sk-top-container\"><div class=\"sk-text-repr-fallback\"><pre>SVC(kernel=&#x27;linear&#x27;)</pre><b>In a Jupyter environment, please rerun this cell to show the HTML representation or trust the notebook. <br />On GitHub, the HTML representation is unable to render, please try loading this page with nbviewer.org.</b></div><div class=\"sk-container\" hidden><div class=\"sk-item\"><div class=\"sk-estimator sk-toggleable\"><input class=\"sk-toggleable__control sk-hidden--visually\" id=\"sk-estimator-id-4\" type=\"checkbox\" checked><label for=\"sk-estimator-id-4\" class=\"sk-toggleable__label sk-toggleable__label-arrow\">SVC</label><div class=\"sk-toggleable__content\"><pre>SVC(kernel=&#x27;linear&#x27;)</pre></div></div></div></div></div>"
     },
     "execution_count": 86,
     "metadata": {},
     "output_type": "execute_result"
    }
   ],
   "source": [
    "# Start with linear kernel\n",
    "# Took about 1 minute to train\n",
    "svc_clf = svm.SVC(kernel=\"linear\")\n",
    "svc_clf.fit(X_train_vec, y_train)"
   ],
   "metadata": {
    "collapsed": false,
    "ExecuteTime": {
     "end_time": "2023-12-03T01:27:24.375062Z",
     "start_time": "2023-12-03T01:26:10.314817Z"
    }
   }
  },
  {
   "cell_type": "code",
   "execution_count": 121,
   "outputs": [
    {
     "name": "stdout",
     "output_type": "stream",
     "text": [
      "Cross-validated scores: [0.8574 0.8528 0.854  0.8578 0.8574]\n"
     ]
    }
   ],
   "source": [
    "# Cross validation, k=5\n",
    "lin_svm_scores = cross_val_score(svc_clf, X_train_vec, y_train, cv=5)\n",
    "print(\"Cross-validated scores:\", lin_svm_scores)"
   ],
   "metadata": {
    "collapsed": false,
    "ExecuteTime": {
     "end_time": "2023-12-03T20:06:20.838783Z",
     "start_time": "2023-12-03T20:03:39.942938Z"
    }
   }
  },
  {
   "cell_type": "code",
   "execution_count": 122,
   "outputs": [
    {
     "name": "stdout",
     "output_type": "stream",
     "text": [
      "Mean cross-validation score: 0.85588\n"
     ]
    }
   ],
   "source": [
    "print(f\"Mean cross-validation score: {np.mean(lin_svm_scores)}\")"
   ],
   "metadata": {
    "collapsed": false,
    "ExecuteTime": {
     "end_time": "2023-12-03T20:06:56.317407Z",
     "start_time": "2023-12-03T20:06:56.313719Z"
    }
   }
  },
  {
   "cell_type": "code",
   "execution_count": 92,
   "outputs": [
    {
     "data": {
      "text/plain": "SVC()",
      "text/html": "<style>#sk-container-id-5 {color: black;}#sk-container-id-5 pre{padding: 0;}#sk-container-id-5 div.sk-toggleable {background-color: white;}#sk-container-id-5 label.sk-toggleable__label {cursor: pointer;display: block;width: 100%;margin-bottom: 0;padding: 0.3em;box-sizing: border-box;text-align: center;}#sk-container-id-5 label.sk-toggleable__label-arrow:before {content: \"▸\";float: left;margin-right: 0.25em;color: #696969;}#sk-container-id-5 label.sk-toggleable__label-arrow:hover:before {color: black;}#sk-container-id-5 div.sk-estimator:hover label.sk-toggleable__label-arrow:before {color: black;}#sk-container-id-5 div.sk-toggleable__content {max-height: 0;max-width: 0;overflow: hidden;text-align: left;background-color: #f0f8ff;}#sk-container-id-5 div.sk-toggleable__content pre {margin: 0.2em;color: black;border-radius: 0.25em;background-color: #f0f8ff;}#sk-container-id-5 input.sk-toggleable__control:checked~div.sk-toggleable__content {max-height: 200px;max-width: 100%;overflow: auto;}#sk-container-id-5 input.sk-toggleable__control:checked~label.sk-toggleable__label-arrow:before {content: \"▾\";}#sk-container-id-5 div.sk-estimator input.sk-toggleable__control:checked~label.sk-toggleable__label {background-color: #d4ebff;}#sk-container-id-5 div.sk-label input.sk-toggleable__control:checked~label.sk-toggleable__label {background-color: #d4ebff;}#sk-container-id-5 input.sk-hidden--visually {border: 0;clip: rect(1px 1px 1px 1px);clip: rect(1px, 1px, 1px, 1px);height: 1px;margin: -1px;overflow: hidden;padding: 0;position: absolute;width: 1px;}#sk-container-id-5 div.sk-estimator {font-family: monospace;background-color: #f0f8ff;border: 1px dotted black;border-radius: 0.25em;box-sizing: border-box;margin-bottom: 0.5em;}#sk-container-id-5 div.sk-estimator:hover {background-color: #d4ebff;}#sk-container-id-5 div.sk-parallel-item::after {content: \"\";width: 100%;border-bottom: 1px solid gray;flex-grow: 1;}#sk-container-id-5 div.sk-label:hover label.sk-toggleable__label {background-color: #d4ebff;}#sk-container-id-5 div.sk-serial::before {content: \"\";position: absolute;border-left: 1px solid gray;box-sizing: border-box;top: 0;bottom: 0;left: 50%;z-index: 0;}#sk-container-id-5 div.sk-serial {display: flex;flex-direction: column;align-items: center;background-color: white;padding-right: 0.2em;padding-left: 0.2em;position: relative;}#sk-container-id-5 div.sk-item {position: relative;z-index: 1;}#sk-container-id-5 div.sk-parallel {display: flex;align-items: stretch;justify-content: center;background-color: white;position: relative;}#sk-container-id-5 div.sk-item::before, #sk-container-id-5 div.sk-parallel-item::before {content: \"\";position: absolute;border-left: 1px solid gray;box-sizing: border-box;top: 0;bottom: 0;left: 50%;z-index: -1;}#sk-container-id-5 div.sk-parallel-item {display: flex;flex-direction: column;z-index: 1;position: relative;background-color: white;}#sk-container-id-5 div.sk-parallel-item:first-child::after {align-self: flex-end;width: 50%;}#sk-container-id-5 div.sk-parallel-item:last-child::after {align-self: flex-start;width: 50%;}#sk-container-id-5 div.sk-parallel-item:only-child::after {width: 0;}#sk-container-id-5 div.sk-dashed-wrapped {border: 1px dashed gray;margin: 0 0.4em 0.5em 0.4em;box-sizing: border-box;padding-bottom: 0.4em;background-color: white;}#sk-container-id-5 div.sk-label label {font-family: monospace;font-weight: bold;display: inline-block;line-height: 1.2em;}#sk-container-id-5 div.sk-label-container {text-align: center;}#sk-container-id-5 div.sk-container {/* jupyter's `normalize.less` sets `[hidden] { display: none; }` but bootstrap.min.css set `[hidden] { display: none !important; }` so we also need the `!important` here to be able to override the default hidden behavior on the sphinx rendered scikit-learn.org. See: https://github.com/scikit-learn/scikit-learn/issues/21755 */display: inline-block !important;position: relative;}#sk-container-id-5 div.sk-text-repr-fallback {display: none;}</style><div id=\"sk-container-id-5\" class=\"sk-top-container\"><div class=\"sk-text-repr-fallback\"><pre>SVC()</pre><b>In a Jupyter environment, please rerun this cell to show the HTML representation or trust the notebook. <br />On GitHub, the HTML representation is unable to render, please try loading this page with nbviewer.org.</b></div><div class=\"sk-container\" hidden><div class=\"sk-item\"><div class=\"sk-estimator sk-toggleable\"><input class=\"sk-toggleable__control sk-hidden--visually\" id=\"sk-estimator-id-5\" type=\"checkbox\" checked><label for=\"sk-estimator-id-5\" class=\"sk-toggleable__label sk-toggleable__label-arrow\">SVC</label><div class=\"sk-toggleable__content\"><pre>SVC()</pre></div></div></div></div></div>"
     },
     "execution_count": 92,
     "metadata": {},
     "output_type": "execute_result"
    }
   ],
   "source": [
    "# Radial Basis Function (RBF) kernel\n",
    "svc_clf_rbf = svm.SVC(kernel=\"rbf\")\n",
    "svc_clf_rbf.fit(X_train_vec, y_train)"
   ],
   "metadata": {
    "collapsed": false,
    "ExecuteTime": {
     "end_time": "2023-12-03T01:41:09.564155Z",
     "start_time": "2023-12-03T01:40:16.142660Z"
    }
   }
  },
  {
   "cell_type": "code",
   "execution_count": 123,
   "outputs": [
    {
     "name": "stdout",
     "output_type": "stream",
     "text": [
      "Cross-validated scores: [0.8598 0.8552 0.863  0.8618 0.865 ]\n",
      "Mean RBF cross-validation score: 0.8609600000000001\n"
     ]
    }
   ],
   "source": [
    "# Cross validation, k=5\n",
    "rbf_svm_scores = cross_val_score(svc_clf_rbf, X_train_vec, y_train, cv=5)\n",
    "print(\"Cross-validated scores:\", rbf_svm_scores)\n",
    "print(f\"Mean RBF cross-validation score: {np.mean(rbf_svm_scores)}\")"
   ],
   "metadata": {
    "collapsed": false,
    "ExecuteTime": {
     "end_time": "2023-12-03T20:11:47.649457Z",
     "start_time": "2023-12-03T20:08:41.616295Z"
    }
   }
  },
  {
   "cell_type": "code",
   "execution_count": 145,
   "outputs": [
    {
     "data": {
      "text/plain": "0.0033380233672040205"
     },
     "execution_count": 145,
     "metadata": {},
     "output_type": "execute_result"
    }
   ],
   "source": [
    "np.std(rbf_svm_scores)"
   ],
   "metadata": {
    "collapsed": false,
    "ExecuteTime": {
     "end_time": "2023-12-05T04:32:48.939345Z",
     "start_time": "2023-12-05T04:32:48.935856Z"
    }
   }
  },
  {
   "cell_type": "code",
   "execution_count": 98,
   "outputs": [],
   "source": [
    "# Define parameter range\n",
    "param_grid = {'C': [0.1, 1, 10, 100],\n",
    "              'gamma': [0.001, 0.01, 0.1, 1]}"
   ],
   "metadata": {
    "collapsed": false,
    "ExecuteTime": {
     "end_time": "2023-12-03T16:01:57.908772Z",
     "start_time": "2023-12-03T16:01:57.907120Z"
    }
   }
  },
  {
   "cell_type": "code",
   "execution_count": 101,
   "outputs": [
    {
     "name": "stdout",
     "output_type": "stream",
     "text": [
      "Fitting 5 folds for each of 16 candidates, totalling 80 fits\n",
      "[CV] END .................................C=0.1, gamma=0.001; total time= 1.4min\n",
      "[CV] END .................................C=0.1, gamma=0.001; total time= 1.4min\n",
      "[CV] END .................................C=0.1, gamma=0.001; total time= 1.4min\n",
      "[CV] END .................................C=0.1, gamma=0.001; total time= 1.4min\n",
      "[CV] END .................................C=0.1, gamma=0.001; total time= 1.4min\n",
      "[CV] END ..................................C=0.1, gamma=0.01; total time= 1.4min\n",
      "[CV] END ..................................C=0.1, gamma=0.01; total time= 1.5min\n",
      "[CV] END ..................................C=0.1, gamma=0.01; total time= 1.4min\n",
      "[CV] END ..................................C=0.1, gamma=0.01; total time= 1.4min\n",
      "[CV] END ..................................C=0.1, gamma=0.01; total time= 1.4min\n",
      "[CV] END ...................................C=0.1, gamma=0.1; total time= 1.2min\n",
      "[CV] END ...................................C=0.1, gamma=0.1; total time= 1.3min\n",
      "[CV] END ...................................C=0.1, gamma=0.1; total time= 1.3min\n",
      "[CV] END ...................................C=0.1, gamma=0.1; total time= 1.2min\n",
      "[CV] END ...................................C=0.1, gamma=0.1; total time= 1.2min\n",
      "[CV] END .....................................C=0.1, gamma=1; total time=  50.5s\n",
      "[CV] END .....................................C=0.1, gamma=1; total time=  50.3s\n",
      "[CV] END .....................................C=0.1, gamma=1; total time=  50.3s\n",
      "[CV] END .....................................C=0.1, gamma=1; total time=  50.9s\n",
      "[CV] END .....................................C=0.1, gamma=1; total time=  50.8s\n",
      "[CV] END ...................................C=1, gamma=0.001; total time= 1.5min\n",
      "[CV] END ...................................C=1, gamma=0.001; total time= 1.5min\n",
      "[CV] END ...................................C=1, gamma=0.001; total time= 1.5min\n",
      "[CV] END ...................................C=1, gamma=0.001; total time= 1.5min\n",
      "[CV] END ...................................C=1, gamma=0.001; total time= 1.5min\n",
      "[CV] END ....................................C=1, gamma=0.01; total time= 1.3min\n",
      "[CV] END ....................................C=1, gamma=0.01; total time= 1.3min\n",
      "[CV] END ....................................C=1, gamma=0.01; total time= 1.2min\n",
      "[CV] END ....................................C=1, gamma=0.01; total time= 1.2min\n",
      "[CV] END ....................................C=1, gamma=0.01; total time= 1.2min\n",
      "[CV] END .....................................C=1, gamma=0.1; total time=  50.5s\n",
      "[CV] END .....................................C=1, gamma=0.1; total time=  50.3s\n",
      "[CV] END .....................................C=1, gamma=0.1; total time=  51.6s\n",
      "[CV] END .....................................C=1, gamma=0.1; total time=  51.1s\n",
      "[CV] END .....................................C=1, gamma=0.1; total time=  50.4s\n",
      "[CV] END .......................................C=1, gamma=1; total time=  39.0s\n",
      "[CV] END .......................................C=1, gamma=1; total time=  39.4s\n",
      "[CV] END .......................................C=1, gamma=1; total time=  39.9s\n",
      "[CV] END .......................................C=1, gamma=1; total time=  38.8s\n",
      "[CV] END .......................................C=1, gamma=1; total time=  39.1s\n",
      "[CV] END ..................................C=10, gamma=0.001; total time= 1.2min\n",
      "[CV] END ..................................C=10, gamma=0.001; total time= 1.4min\n",
      "[CV] END ..................................C=10, gamma=0.001; total time= 1.3min\n",
      "[CV] END ..................................C=10, gamma=0.001; total time= 1.3min\n",
      "[CV] END ..................................C=10, gamma=0.001; total time= 1.3min\n",
      "[CV] END ...................................C=10, gamma=0.01; total time=  54.3s\n",
      "[CV] END ...................................C=10, gamma=0.01; total time=  54.1s\n",
      "[CV] END ...................................C=10, gamma=0.01; total time=  55.5s\n",
      "[CV] END ...................................C=10, gamma=0.01; total time=  54.6s\n",
      "[CV] END ...................................C=10, gamma=0.01; total time=  54.7s\n",
      "[CV] END ....................................C=10, gamma=0.1; total time=  40.6s\n",
      "[CV] END ....................................C=10, gamma=0.1; total time=  40.8s\n",
      "[CV] END ....................................C=10, gamma=0.1; total time=  41.3s\n",
      "[CV] END ....................................C=10, gamma=0.1; total time=  41.9s\n",
      "[CV] END ....................................C=10, gamma=0.1; total time=  42.0s\n",
      "[CV] END ......................................C=10, gamma=1; total time=  48.0s\n",
      "[CV] END ......................................C=10, gamma=1; total time=  47.9s\n",
      "[CV] END ......................................C=10, gamma=1; total time=  47.9s\n",
      "[CV] END ......................................C=10, gamma=1; total time=  48.2s\n",
      "[CV] END ......................................C=10, gamma=1; total time=  47.9s\n",
      "[CV] END .................................C=100, gamma=0.001; total time=  55.7s\n",
      "[CV] END .................................C=100, gamma=0.001; total time=  54.4s\n",
      "[CV] END .................................C=100, gamma=0.001; total time=  54.3s\n",
      "[CV] END .................................C=100, gamma=0.001; total time=  54.6s\n",
      "[CV] END .................................C=100, gamma=0.001; total time=  54.2s\n",
      "[CV] END ..................................C=100, gamma=0.01; total time=  41.6s\n",
      "[CV] END ..................................C=100, gamma=0.01; total time=  41.2s\n",
      "[CV] END ..................................C=100, gamma=0.01; total time=  41.9s\n",
      "[CV] END ..................................C=100, gamma=0.01; total time=  41.9s\n",
      "[CV] END ..................................C=100, gamma=0.01; total time=  41.8s\n",
      "[CV] END ...................................C=100, gamma=0.1; total time=  45.9s\n",
      "[CV] END ...................................C=100, gamma=0.1; total time=  45.5s\n",
      "[CV] END ...................................C=100, gamma=0.1; total time=  46.4s\n",
      "[CV] END ...................................C=100, gamma=0.1; total time=  46.8s\n",
      "[CV] END ...................................C=100, gamma=0.1; total time=  46.7s\n",
      "[CV] END .....................................C=100, gamma=1; total time= 3.2min\n",
      "[CV] END .....................................C=100, gamma=1; total time= 3.1min\n",
      "[CV] END .....................................C=100, gamma=1; total time= 3.2min\n",
      "[CV] END .....................................C=100, gamma=1; total time= 3.3min\n",
      "[CV] END .....................................C=100, gamma=1; total time= 3.3min\n",
      "{'C': 10, 'gamma': 1}\n",
      "SVC(C=10, gamma=1)\n"
     ]
    }
   ],
   "source": [
    "grid = GridSearchCV(svm.SVC(), param_grid, refit=True, verbose=2, cv=5)\n",
    "\n",
    "# Fit the model for grid search\n",
    "grid.fit(X_train_vec, y_train)\n",
    "\n",
    "# Print best parameters after tuning\n",
    "print(grid.best_params_)\n",
    "\n",
    "# Print how the model looks after hyperparameter tuning\n",
    "print(grid.best_estimator_)"
   ],
   "metadata": {
    "collapsed": false,
    "ExecuteTime": {
     "end_time": "2023-12-03T19:25:31.591212Z",
     "start_time": "2023-12-03T17:52:01.946884Z"
    }
   }
  },
  {
   "cell_type": "code",
   "execution_count": 111,
   "outputs": [
    {
     "data": {
      "text/plain": "{'mean_fit_time': array([ 63.46735816,  65.5302618 ,  57.41900935,  39.1670588 ,\n         68.05865197,  58.35992975,  39.76411963,  30.87440023,\n         62.02959146,  43.32176394,  32.80828543,  40.10270529,\n         43.31883173,  33.24280982,  38.68418765, 185.4409018 ]),\n 'std_fit_time': array([1.1421681 , 0.81957408, 1.44142173, 0.23654866, 0.32943469,\n        0.67789444, 0.4712991 , 0.40528053, 2.13731863, 0.46433234,\n        0.50253901, 0.11977112, 0.54106606, 0.23235923, 0.45256309,\n        4.34750743]),\n 'mean_score_time': array([20.25500655, 20.16278977, 16.78707986, 11.42109904, 20.43861098,\n        16.74930348, 11.0144299 ,  8.39286118, 17.04465804, 11.30286083,\n         8.49376445,  7.86372519, 11.31736097,  8.44047112,  7.58199143,\n         8.32481971]),\n 'std_score_time': array([0.05531983, 0.05949274, 0.05968471, 0.05371619, 0.08174328,\n        0.04021726, 0.02844337, 0.03477141, 0.17196771, 0.03615899,\n        0.07579884, 0.0452167 , 0.02039161, 0.03949897, 0.06396533,\n        0.082274  ]),\n 'param_C': masked_array(data=[0.1, 0.1, 0.1, 0.1, 1, 1, 1, 1, 10, 10, 10, 10, 100,\n                    100, 100, 100],\n              mask=[False, False, False, False, False, False, False, False,\n                    False, False, False, False, False, False, False, False],\n        fill_value='?',\n             dtype=object),\n 'param_gamma': masked_array(data=[0.001, 0.01, 0.1, 1, 0.001, 0.01, 0.1, 1, 0.001, 0.01,\n                    0.1, 1, 0.001, 0.01, 0.1, 1],\n              mask=[False, False, False, False, False, False, False, False,\n                    False, False, False, False, False, False, False, False],\n        fill_value='?',\n             dtype=object),\n 'params': [{'C': 0.1, 'gamma': 0.001},\n  {'C': 0.1, 'gamma': 0.01},\n  {'C': 0.1, 'gamma': 0.1},\n  {'C': 0.1, 'gamma': 1},\n  {'C': 1, 'gamma': 0.001},\n  {'C': 1, 'gamma': 0.01},\n  {'C': 1, 'gamma': 0.1},\n  {'C': 1, 'gamma': 1},\n  {'C': 10, 'gamma': 0.001},\n  {'C': 10, 'gamma': 0.01},\n  {'C': 10, 'gamma': 0.1},\n  {'C': 10, 'gamma': 1},\n  {'C': 100, 'gamma': 0.001},\n  {'C': 100, 'gamma': 0.01},\n  {'C': 100, 'gamma': 0.1},\n  {'C': 100, 'gamma': 1}],\n 'split0_test_score': array([0.7704, 0.7694, 0.8118, 0.844 , 0.7704, 0.8114, 0.8462, 0.86  ,\n        0.8114, 0.8442, 0.856 , 0.8642, 0.8442, 0.8564, 0.863 , 0.8542]),\n 'split1_test_score': array([0.7734, 0.7722, 0.8142, 0.8454, 0.7734, 0.8138, 0.8446, 0.8526,\n        0.814 , 0.8438, 0.8514, 0.8584, 0.8444, 0.8534, 0.849 , 0.8512]),\n 'split2_test_score': array([0.7738, 0.7744, 0.8092, 0.8448, 0.7738, 0.809 , 0.8436, 0.8616,\n        0.8088, 0.8446, 0.8594, 0.8654, 0.845 , 0.8582, 0.8584, 0.8504]),\n 'split3_test_score': array([0.775 , 0.7754, 0.8168, 0.8504, 0.775 , 0.8164, 0.8514, 0.8596,\n        0.816 , 0.852 , 0.8556, 0.8666, 0.8518, 0.8566, 0.8576, 0.861 ]),\n 'split4_test_score': array([0.759 , 0.7598, 0.8136, 0.8476, 0.759 , 0.8142, 0.8488, 0.8626,\n        0.814 , 0.8484, 0.8592, 0.8682, 0.8486, 0.8588, 0.8644, 0.8546]),\n 'mean_test_score': array([0.77032, 0.77024, 0.81312, 0.84644, 0.77032, 0.81296, 0.84692,\n        0.85928, 0.81284, 0.8466 , 0.85632, 0.86456, 0.8468 , 0.85668,\n        0.85848, 0.85428]),\n 'std_test_score': array([0.00585915, 0.00561199, 0.00253172, 0.00231309, 0.00585915,\n        0.0025374 , 0.00284703, 0.00351135, 0.00249287, 0.00316228,\n        0.00291918, 0.00335237, 0.00296648, 0.00187872, 0.00540607,\n        0.00373652]),\n 'rank_test_score': array([14, 16, 11, 10, 14, 12,  7,  2, 13,  9,  5,  1,  8,  4,  3,  6],\n       dtype=int32)}"
     },
     "execution_count": 111,
     "metadata": {},
     "output_type": "execute_result"
    }
   ],
   "source": [
    "grid.cv_results_"
   ],
   "metadata": {
    "collapsed": false,
    "ExecuteTime": {
     "end_time": "2023-12-03T19:54:31.408280Z",
     "start_time": "2023-12-03T19:54:31.406518Z"
    }
   }
  },
  {
   "cell_type": "code",
   "execution_count": 112,
   "outputs": [
    {
     "data": {
      "text/plain": "array([0.77032, 0.77024, 0.81312, 0.84644, 0.77032, 0.81296, 0.84692,\n       0.85928, 0.81284, 0.8466 , 0.85632, 0.86456, 0.8468 , 0.85668,\n       0.85848, 0.85428])"
     },
     "execution_count": 112,
     "metadata": {},
     "output_type": "execute_result"
    }
   ],
   "source": [
    "grid.cv_results_[\"mean_test_score\"]"
   ],
   "metadata": {
    "collapsed": false,
    "ExecuteTime": {
     "end_time": "2023-12-03T19:55:17.104657Z",
     "start_time": "2023-12-03T19:55:17.102619Z"
    }
   }
  },
  {
   "cell_type": "code",
   "execution_count": 118,
   "outputs": [
    {
     "data": {
      "text/plain": "<Figure size 1000x800 with 2 Axes>",
      "image/png": "[encoded data removed]"
     },
     "metadata": {},
     "output_type": "display_data"
    }
   ],
   "source": [
    "# Extract the scores into a matrix format\n",
    "C_values = [0.1, 1, 10, 100]\n",
    "gamma_values = [0.001, 0.01, 0.1, 1]\n",
    "svm_cv_scores = grid.cv_results_['mean_test_score'].reshape(len(C_values), len(gamma_values))\n",
    "\n",
    "# Plot scores\n",
    "plt.figure(figsize=(10, 8))\n",
    "sns.heatmap(svm_cv_scores, annot=True, fmt=\".3f\", cmap='viridis', xticklabels=gamma_values, yticklabels=C_values)\n",
    "plt.title('Heatmap of Mean Test Scores for SVM GridSearch')\n",
    "plt.xlabel('Gamma')\n",
    "plt.ylabel('C')\n",
    "plt.show()"
   ],
   "metadata": {
    "collapsed": false,
    "ExecuteTime": {
     "end_time": "2023-12-03T20:02:03.119723Z",
     "start_time": "2023-12-03T20:02:03.017955Z"
    }
   }
  },
  {
   "cell_type": "code",
   "execution_count": 124,
   "outputs": [
    {
     "data": {
      "text/plain": "array([0.00585915, 0.00561199, 0.00253172, 0.00231309, 0.00585915,\n       0.0025374 , 0.00284703, 0.00351135, 0.00249287, 0.00316228,\n       0.00291918, 0.00335237, 0.00296648, 0.00187872, 0.00540607,\n       0.00373652])"
     },
     "execution_count": 124,
     "metadata": {},
     "output_type": "execute_result"
    }
   ],
   "source": [
    "grid.cv_results_[\"std_test_score\"]"
   ],
   "metadata": {
    "collapsed": false,
    "ExecuteTime": {
     "end_time": "2023-12-03T20:11:47.651807Z",
     "start_time": "2023-12-03T20:11:47.650655Z"
    }
   }
  },
  {
   "cell_type": "code",
   "execution_count": 126,
   "outputs": [
    {
     "data": {
      "text/plain": "1.1550990475885567"
     },
     "execution_count": 126,
     "metadata": {},
     "output_type": "execute_result"
    }
   ],
   "source": [
    "svc_clf_rbf._gamma"
   ],
   "metadata": {
    "collapsed": false,
    "ExecuteTime": {
     "end_time": "2023-12-03T20:20:32.570863Z",
     "start_time": "2023-12-03T20:20:32.568251Z"
    }
   }
  },
  {
   "cell_type": "code",
   "execution_count": 129,
   "outputs": [
    {
     "data": {
      "text/plain": "1.1550994333030962"
     },
     "execution_count": 129,
     "metadata": {},
     "output_type": "execute_result"
    }
   ],
   "source": [
    "# Gamma of default SVC RBF classifier\n",
    "1 / (300 * X_train_vec.var())"
   ],
   "metadata": {
    "collapsed": false,
    "ExecuteTime": {
     "end_time": "2023-12-03T20:20:58.391932Z",
     "start_time": "2023-12-03T20:20:58.383391Z"
    }
   }
  },
  {
   "cell_type": "code",
   "execution_count": 130,
   "outputs": [
    {
     "data": {
      "text/plain": "(0.92811406, 0.07412248)"
     },
     "execution_count": 130,
     "metadata": {},
     "output_type": "execute_result"
    }
   ],
   "source": [
    "# Calculate the norm (magnitude) of each vector (row) in the training data\n",
    "norms = np.linalg.norm(X_train_vec, axis=1)\n",
    "\n",
    "# Calculate the mean and standard deviation of these norms\n",
    "mean_norm = np.mean(norms)\n",
    "std_norm = np.std(norms)\n",
    "\n",
    "(mean_norm, std_norm)"
   ],
   "metadata": {
    "collapsed": false,
    "ExecuteTime": {
     "end_time": "2023-12-03T20:24:35.518388Z",
     "start_time": "2023-12-03T20:24:35.512264Z"
    }
   }
  },
  {
   "cell_type": "code",
   "execution_count": 133,
   "outputs": [
    {
     "data": {
      "text/plain": "['grid.joblib']"
     },
     "execution_count": 133,
     "metadata": {},
     "output_type": "execute_result"
    }
   ],
   "source": [
    "# Test dump to file and load from file\n",
    "dump(grid, 'grid.joblib')"
   ],
   "metadata": {
    "collapsed": false,
    "ExecuteTime": {
     "end_time": "2023-12-03T20:27:04.494008Z",
     "start_time": "2023-12-03T20:27:04.484676Z"
    }
   }
  },
  {
   "cell_type": "code",
   "execution_count": 135,
   "outputs": [],
   "source": [
    "grid_search = load(\"grid.joblib\")"
   ],
   "metadata": {
    "collapsed": false,
    "ExecuteTime": {
     "end_time": "2023-12-03T20:27:44.910173Z",
     "start_time": "2023-12-03T20:27:44.902702Z"
    }
   }
  },
  {
   "cell_type": "code",
   "execution_count": 138,
   "outputs": [
    {
     "data": {
      "text/plain": "GridSearchCV(cv=5, estimator=SVC(),\n             param_grid={'C': [0.1, 1, 10, 100],\n                         'gamma': [0.001, 0.01, 0.1, 1]},\n             verbose=2)",
      "text/html": "<style>#sk-container-id-7 {color: black;}#sk-container-id-7 pre{padding: 0;}#sk-container-id-7 div.sk-toggleable {background-color: white;}#sk-container-id-7 label.sk-toggleable__label {cursor: pointer;display: block;width: 100%;margin-bottom: 0;padding: 0.3em;box-sizing: border-box;text-align: center;}#sk-container-id-7 label.sk-toggleable__label-arrow:before {content: \"▸\";float: left;margin-right: 0.25em;color: #696969;}#sk-container-id-7 label.sk-toggleable__label-arrow:hover:before {color: black;}#sk-container-id-7 div.sk-estimator:hover label.sk-toggleable__label-arrow:before {color: black;}#sk-container-id-7 div.sk-toggleable__content {max-height: 0;max-width: 0;overflow: hidden;text-align: left;background-color: #f0f8ff;}#sk-container-id-7 div.sk-toggleable__content pre {margin: 0.2em;color: black;border-radius: 0.25em;background-color: #f0f8ff;}#sk-container-id-7 input.sk-toggleable__control:checked~div.sk-toggleable__content {max-height: 200px;max-width: 100%;overflow: auto;}#sk-container-id-7 input.sk-toggleable__control:checked~label.sk-toggleable__label-arrow:before {content: \"▾\";}#sk-container-id-7 div.sk-estimator input.sk-toggleable__control:checked~label.sk-toggleable__label {background-color: #d4ebff;}#sk-container-id-7 div.sk-label input.sk-toggleable__control:checked~label.sk-toggleable__label {background-color: #d4ebff;}#sk-container-id-7 input.sk-hidden--visually {border: 0;clip: rect(1px 1px 1px 1px);clip: rect(1px, 1px, 1px, 1px);height: 1px;margin: -1px;overflow: hidden;padding: 0;position: absolute;width: 1px;}#sk-container-id-7 div.sk-estimator {font-family: monospace;background-color: #f0f8ff;border: 1px dotted black;border-radius: 0.25em;box-sizing: border-box;margin-bottom: 0.5em;}#sk-container-id-7 div.sk-estimator:hover {background-color: #d4ebff;}#sk-container-id-7 div.sk-parallel-item::after {content: \"\";width: 100%;border-bottom: 1px solid gray;flex-grow: 1;}#sk-container-id-7 div.sk-label:hover label.sk-toggleable__label {background-color: #d4ebff;}#sk-container-id-7 div.sk-serial::before {content: \"\";position: absolute;border-left: 1px solid gray;box-sizing: border-box;top: 0;bottom: 0;left: 50%;z-index: 0;}#sk-container-id-7 div.sk-serial {display: flex;flex-direction: column;align-items: center;background-color: white;padding-right: 0.2em;padding-left: 0.2em;position: relative;}#sk-container-id-7 div.sk-item {position: relative;z-index: 1;}#sk-container-id-7 div.sk-parallel {display: flex;align-items: stretch;justify-content: center;background-color: white;position: relative;}#sk-container-id-7 div.sk-item::before, #sk-container-id-7 div.sk-parallel-item::before {content: \"\";position: absolute;border-left: 1px solid gray;box-sizing: border-box;top: 0;bottom: 0;left: 50%;z-index: -1;}#sk-container-id-7 div.sk-parallel-item {display: flex;flex-direction: column;z-index: 1;position: relative;background-color: white;}#sk-container-id-7 div.sk-parallel-item:first-child::after {align-self: flex-end;width: 50%;}#sk-container-id-7 div.sk-parallel-item:last-child::after {align-self: flex-start;width: 50%;}#sk-container-id-7 div.sk-parallel-item:only-child::after {width: 0;}#sk-container-id-7 div.sk-dashed-wrapped {border: 1px dashed gray;margin: 0 0.4em 0.5em 0.4em;box-sizing: border-box;padding-bottom: 0.4em;background-color: white;}#sk-container-id-7 div.sk-label label {font-family: monospace;font-weight: bold;display: inline-block;line-height: 1.2em;}#sk-container-id-7 div.sk-label-container {text-align: center;}#sk-container-id-7 div.sk-container {/* jupyter's `normalize.less` sets `[hidden] { display: none; }` but bootstrap.min.css set `[hidden] { display: none !important; }` so we also need the `!important` here to be able to override the default hidden behavior on the sphinx rendered scikit-learn.org. See: https://github.com/scikit-learn/scikit-learn/issues/21755 */display: inline-block !important;position: relative;}#sk-container-id-7 div.sk-text-repr-fallback {display: none;}</style><div id=\"sk-container-id-7\" class=\"sk-top-container\"><div class=\"sk-text-repr-fallback\"><pre>GridSearchCV(cv=5, estimator=SVC(),\n             param_grid={&#x27;C&#x27;: [0.1, 1, 10, 100],\n                         &#x27;gamma&#x27;: [0.001, 0.01, 0.1, 1]},\n             verbose=2)</pre><b>In a Jupyter environment, please rerun this cell to show the HTML representation or trust the notebook. <br />On GitHub, the HTML representation is unable to render, please try loading this page with nbviewer.org.</b></div><div class=\"sk-container\" hidden><div class=\"sk-item sk-dashed-wrapped\"><div class=\"sk-label-container\"><div class=\"sk-label sk-toggleable\"><input class=\"sk-toggleable__control sk-hidden--visually\" id=\"sk-estimator-id-9\" type=\"checkbox\" ><label for=\"sk-estimator-id-9\" class=\"sk-toggleable__label sk-toggleable__label-arrow\">GridSearchCV</label><div class=\"sk-toggleable__content\"><pre>GridSearchCV(cv=5, estimator=SVC(),\n             param_grid={&#x27;C&#x27;: [0.1, 1, 10, 100],\n                         &#x27;gamma&#x27;: [0.001, 0.01, 0.1, 1]},\n             verbose=2)</pre></div></div></div><div class=\"sk-parallel\"><div class=\"sk-parallel-item\"><div class=\"sk-item\"><div class=\"sk-label-container\"><div class=\"sk-label sk-toggleable\"><input class=\"sk-toggleable__control sk-hidden--visually\" id=\"sk-estimator-id-10\" type=\"checkbox\" ><label for=\"sk-estimator-id-10\" class=\"sk-toggleable__label sk-toggleable__label-arrow\">estimator: SVC</label><div class=\"sk-toggleable__content\"><pre>SVC()</pre></div></div></div><div class=\"sk-serial\"><div class=\"sk-item\"><div class=\"sk-estimator sk-toggleable\"><input class=\"sk-toggleable__control sk-hidden--visually\" id=\"sk-estimator-id-11\" type=\"checkbox\" ><label for=\"sk-estimator-id-11\" class=\"sk-toggleable__label sk-toggleable__label-arrow\">SVC</label><div class=\"sk-toggleable__content\"><pre>SVC()</pre></div></div></div></div></div></div></div></div></div></div>"
     },
     "execution_count": 138,
     "metadata": {},
     "output_type": "execute_result"
    }
   ],
   "source": [
    "grid_search"
   ],
   "metadata": {
    "collapsed": false,
    "ExecuteTime": {
     "end_time": "2023-12-03T20:28:10.769220Z",
     "start_time": "2023-12-03T20:28:10.765147Z"
    }
   }
  },
  {
   "cell_type": "code",
   "execution_count": 140,
   "outputs": [
    {
     "name": "stdout",
     "output_type": "stream",
     "text": [
      "Cross-validated scores: [0.8088 0.818  0.813  0.8164 0.8124]\n",
      "Mean RBF cross-validation score: 0.81372\n"
     ]
    }
   ],
   "source": [
    "# Random Forest\n",
    "rf_classifier = RandomForestClassifier(n_estimators=100, random_state=42)\n",
    "\n",
    "# Cross validation, k=5\n",
    "rf_scores = cross_val_score(rf_classifier, X_train_vec, y_train, cv=5)\n",
    "print(\"Cross-validated scores:\", rf_scores)\n",
    "print(f\"Mean RBF cross-validation score: {np.mean(rf_scores)}\")"
   ],
   "metadata": {
    "collapsed": false,
    "ExecuteTime": {
     "end_time": "2023-12-03T21:02:42.064290Z",
     "start_time": "2023-12-03T21:00:46.817351Z"
    }
   }
  },
  {
   "cell_type": "code",
   "execution_count": 141,
   "outputs": [
    {
     "name": "stdout",
     "output_type": "stream",
     "text": [
      "Cross-validated scores: [0.8164 0.8202 0.817  0.8246 0.8186]\n",
      "Mean RBF cross-validation score: 0.81936\n"
     ]
    }
   ],
   "source": [
    "# Random Forest\n",
    "rf_classifier_300 = RandomForestClassifier(n_estimators=300, random_state=42)\n",
    "\n",
    "# Cross validation, k=5\n",
    "rf_scores_300 = cross_val_score(rf_classifier_300, X_train_vec, y_train, cv=5)\n",
    "print(\"Cross-validated scores:\", rf_scores_300)\n",
    "print(f\"Mean RBF cross-validation score: {np.mean(rf_scores_300)}\")"
   ],
   "metadata": {
    "collapsed": false,
    "ExecuteTime": {
     "end_time": "2023-12-03T21:27:22.664898Z",
     "start_time": "2023-12-03T21:21:17.619574Z"
    }
   }
  },
  {
   "cell_type": "code",
   "execution_count": 143,
   "outputs": [
    {
     "data": {
      "text/plain": "array([0.8164, 0.8202, 0.817 , 0.8246, 0.8186])"
     },
     "execution_count": 143,
     "metadata": {},
     "output_type": "execute_result"
    }
   ],
   "source": [
    "rf_scores_300"
   ],
   "metadata": {
    "collapsed": false,
    "ExecuteTime": {
     "end_time": "2023-12-05T03:22:13.710852Z",
     "start_time": "2023-12-05T03:22:13.708729Z"
    }
   }
  },
  {
   "cell_type": "code",
   "execution_count": 28,
   "outputs": [
    {
     "name": "stdout",
     "output_type": "stream",
     "text": [
      "Trained on first 5000 data points\n",
      "Cross-validated scores: [0.803 0.813 0.819 0.803 0.795]\n",
      "Mean RBF cross-validation score: 0.8066000000000001\n",
      "Trained on first 10000 data points\n",
      "Cross-validated scores: [0.808  0.811  0.812  0.8055 0.8065]\n",
      "Mean RBF cross-validation score: 0.8086\n",
      "Trained on first 15000 data points\n",
      "Cross-validated scores: [0.809      0.81066667 0.81033333 0.81233333 0.80533333]\n",
      "Mean RBF cross-validation score: 0.8095333333333334\n",
      "Trained on first 20000 data points\n",
      "Cross-validated scores: [0.81225 0.8165  0.81125 0.81    0.8015 ]\n",
      "Mean RBF cross-validation score: 0.8103000000000001\n",
      "Trained on first 25000 data points\n",
      "Cross-validated scores: [0.8184 0.8114 0.8102 0.8124 0.8058]\n",
      "Mean RBF cross-validation score: 0.8116399999999999\n"
     ]
    }
   ],
   "source": [
    "# Define a Random Forest Classifier\n",
    "rf = RandomForestClassifier(random_state=42)\n",
    "\n",
    "num_subsets = 5\n",
    "\n",
    "mean_accuracies = []\n",
    "std_accuracies = []\n",
    "\n",
    "# See how much the size of the training dataset affects the model performance\n",
    "for i in range(num_subsets):\n",
    "    subset_size = math.floor(len(X_train) * (i + 1) / num_subsets)\n",
    "    X_train_subset = X_train_vec[:subset_size]\n",
    "    y_train_subset = y_train[:subset_size]\n",
    "    # Cross validation, k=5\n",
    "    rf_scores = cross_val_score(rf, X_train_subset, y_train_subset, cv=5)\n",
    "    print(f\"Trained on first {subset_size} data points\")\n",
    "    print(\"Cross-validated scores:\", rf_scores)\n",
    "    print(f\"Mean RBF cross-validation score: {np.mean(rf_scores)}\")\n",
    "    mean_accuracies.append(np.mean(rf_scores))\n",
    "    std_accuracies.append(np.std(rf_scores))"
   ],
   "metadata": {
    "collapsed": false,
    "ExecuteTime": {
     "end_time": "2023-12-05T22:06:53.392456Z",
     "start_time": "2023-12-05T22:01:28.661120Z"
    }
   }
  },
  {
   "cell_type": "code",
   "execution_count": 32,
   "outputs": [
    {
     "data": {
      "text/plain": "<Figure size 640x480 with 1 Axes>",
      "image/png": "[encoded data removed]"
     },
     "metadata": {},
     "output_type": "display_data"
    }
   ],
   "source": [
    "percentages = np.linspace(100 / num_subsets, 100, num=num_subsets)\n",
    "plt.plot(percentages, mean_accuracies, label=\"Mean Accuracy\")\n",
    "plt.xlabel(\"% of training data used\")\n",
    "plt.xlim(left=0)\n",
    "plt.ylim(bottom=0.8, top=0.85)\n",
    "plt.title(\"Accuracy of Random Forest classifier using subsets of training data of various sizes\")\n",
    "plt.legend()\n",
    "plt.show()\n",
    "# Accuracy does not seem to vary too much - the gain in mean accuracy from using 20% of the data to using 100% of the data is only 0.005. For this reason, we will run GridSearchCV on only 20% of the data to save time while investigating the effect of hyperparameters."
   ],
   "metadata": {
    "collapsed": false,
    "ExecuteTime": {
     "end_time": "2023-12-05T22:07:53.828041Z",
     "start_time": "2023-12-05T22:07:53.751085Z"
    }
   }
  },
  {
   "cell_type": "code",
   "execution_count": 34,
   "outputs": [
    {
     "name": "stdout",
     "output_type": "stream",
     "text": [
      "[0.008428523002282149, 0.00251793566240286, 0.0023532483459630356, 0.004912738543826658, 0.004062314611154597]\n"
     ]
    }
   ],
   "source": [
    "print(std_accuracies)"
   ],
   "metadata": {
    "collapsed": false,
    "ExecuteTime": {
     "end_time": "2023-12-05T22:08:57.844246Z",
     "start_time": "2023-12-05T22:08:57.841532Z"
    }
   }
  },
  {
   "cell_type": "code",
   "execution_count": 35,
   "outputs": [],
   "source": [
    "rf_param_grid = {\n",
    "    'n_estimators': [100, 200],\n",
    "    'max_depth': [None, 10, 20],\n",
    "    'min_samples_split': [2, 10],\n",
    "    'min_samples_leaf': [1, 5],\n",
    "    'bootstrap': [True],\n",
    "    'criterion': ['gini']\n",
    "}"
   ],
   "metadata": {
    "collapsed": false,
    "ExecuteTime": {
     "end_time": "2023-12-05T22:11:38.477621Z",
     "start_time": "2023-12-05T22:11:38.474753Z"
    }
   }
  },
  {
   "cell_type": "code",
   "execution_count": 36,
   "outputs": [],
   "source": [
    "# Set up the grid search with cross-validation\n",
    "rf_grid_search = GridSearchCV(estimator=rf, param_grid=rf_param_grid, cv=5, n_jobs=-1, verbose=2)"
   ],
   "metadata": {
    "collapsed": false,
    "ExecuteTime": {
     "end_time": "2023-12-05T22:11:41.100211Z",
     "start_time": "2023-12-05T22:11:41.096826Z"
    }
   }
  },
  {
   "cell_type": "code",
   "execution_count": 38,
   "outputs": [
    {
     "name": "stdout",
     "output_type": "stream",
     "text": [
      "Fitting 5 folds for each of 24 candidates, totalling 120 fits\n"
     ]
    },
    {
     "data": {
      "text/plain": "GridSearchCV(cv=5, estimator=RandomForestClassifier(random_state=42), n_jobs=-1,\n             param_grid={'bootstrap': [True], 'criterion': ['gini'],\n                         'max_depth': [None, 10, 20],\n                         'min_samples_leaf': [1, 5],\n                         'min_samples_split': [2, 10],\n                         'n_estimators': [100, 200]},\n             verbose=2)",
      "text/html": "<style>#sk-container-id-1 {color: black;}#sk-container-id-1 pre{padding: 0;}#sk-container-id-1 div.sk-toggleable {background-color: white;}#sk-container-id-1 label.sk-toggleable__label {cursor: pointer;display: block;width: 100%;margin-bottom: 0;padding: 0.3em;box-sizing: border-box;text-align: center;}#sk-container-id-1 label.sk-toggleable__label-arrow:before {content: \"▸\";float: left;margin-right: 0.25em;color: #696969;}#sk-container-id-1 label.sk-toggleable__label-arrow:hover:before {color: black;}#sk-container-id-1 div.sk-estimator:hover label.sk-toggleable__label-arrow:before {color: black;}#sk-container-id-1 div.sk-toggleable__content {max-height: 0;max-width: 0;overflow: hidden;text-align: left;background-color: #f0f8ff;}#sk-container-id-1 div.sk-toggleable__content pre {margin: 0.2em;color: black;border-radius: 0.25em;background-color: #f0f8ff;}#sk-container-id-1 input.sk-toggleable__control:checked~div.sk-toggleable__content {max-height: 200px;max-width: 100%;overflow: auto;}#sk-container-id-1 input.sk-toggleable__control:checked~label.sk-toggleable__label-arrow:before {content: \"▾\";}#sk-container-id-1 div.sk-estimator input.sk-toggleable__control:checked~label.sk-toggleable__label {background-color: #d4ebff;}#sk-container-id-1 div.sk-label input.sk-toggleable__control:checked~label.sk-toggleable__label {background-color: #d4ebff;}#sk-container-id-1 input.sk-hidden--visually {border: 0;clip: rect(1px 1px 1px 1px);clip: rect(1px, 1px, 1px, 1px);height: 1px;margin: -1px;overflow: hidden;padding: 0;position: absolute;width: 1px;}#sk-container-id-1 div.sk-estimator {font-family: monospace;background-color: #f0f8ff;border: 1px dotted black;border-radius: 0.25em;box-sizing: border-box;margin-bottom: 0.5em;}#sk-container-id-1 div.sk-estimator:hover {background-color: #d4ebff;}#sk-container-id-1 div.sk-parallel-item::after {content: \"\";width: 100%;border-bottom: 1px solid gray;flex-grow: 1;}#sk-container-id-1 div.sk-label:hover label.sk-toggleable__label {background-color: #d4ebff;}#sk-container-id-1 div.sk-serial::before {content: \"\";position: absolute;border-left: 1px solid gray;box-sizing: border-box;top: 0;bottom: 0;left: 50%;z-index: 0;}#sk-container-id-1 div.sk-serial {display: flex;flex-direction: column;align-items: center;background-color: white;padding-right: 0.2em;padding-left: 0.2em;position: relative;}#sk-container-id-1 div.sk-item {position: relative;z-index: 1;}#sk-container-id-1 div.sk-parallel {display: flex;align-items: stretch;justify-content: center;background-color: white;position: relative;}#sk-container-id-1 div.sk-item::before, #sk-container-id-1 div.sk-parallel-item::before {content: \"\";position: absolute;border-left: 1px solid gray;box-sizing: border-box;top: 0;bottom: 0;left: 50%;z-index: -1;}#sk-container-id-1 div.sk-parallel-item {display: flex;flex-direction: column;z-index: 1;position: relative;background-color: white;}#sk-container-id-1 div.sk-parallel-item:first-child::after {align-self: flex-end;width: 50%;}#sk-container-id-1 div.sk-parallel-item:last-child::after {align-self: flex-start;width: 50%;}#sk-container-id-1 div.sk-parallel-item:only-child::after {width: 0;}#sk-container-id-1 div.sk-dashed-wrapped {border: 1px dashed gray;margin: 0 0.4em 0.5em 0.4em;box-sizing: border-box;padding-bottom: 0.4em;background-color: white;}#sk-container-id-1 div.sk-label label {font-family: monospace;font-weight: bold;display: inline-block;line-height: 1.2em;}#sk-container-id-1 div.sk-label-container {text-align: center;}#sk-container-id-1 div.sk-container {/* jupyter's `normalize.less` sets `[hidden] { display: none; }` but bootstrap.min.css set `[hidden] { display: none !important; }` so we also need the `!important` here to be able to override the default hidden behavior on the sphinx rendered scikit-learn.org. See: https://github.com/scikit-learn/scikit-learn/issues/21755 */display: inline-block !important;position: relative;}#sk-container-id-1 div.sk-text-repr-fallback {display: none;}</style><div id=\"sk-container-id-1\" class=\"sk-top-container\"><div class=\"sk-text-repr-fallback\"><pre>GridSearchCV(cv=5, estimator=RandomForestClassifier(random_state=42), n_jobs=-1,\n             param_grid={&#x27;bootstrap&#x27;: [True], &#x27;criterion&#x27;: [&#x27;gini&#x27;],\n                         &#x27;max_depth&#x27;: [None, 10, 20],\n                         &#x27;min_samples_leaf&#x27;: [1, 5],\n                         &#x27;min_samples_split&#x27;: [2, 10],\n                         &#x27;n_estimators&#x27;: [100, 200]},\n             verbose=2)</pre><b>In a Jupyter environment, please rerun this cell to show the HTML representation or trust the notebook. <br />On GitHub, the HTML representation is unable to render, please try loading this page with nbviewer.org.</b></div><div class=\"sk-container\" hidden><div class=\"sk-item sk-dashed-wrapped\"><div class=\"sk-label-container\"><div class=\"sk-label sk-toggleable\"><input class=\"sk-toggleable__control sk-hidden--visually\" id=\"sk-estimator-id-1\" type=\"checkbox\" ><label for=\"sk-estimator-id-1\" class=\"sk-toggleable__label sk-toggleable__label-arrow\">GridSearchCV</label><div class=\"sk-toggleable__content\"><pre>GridSearchCV(cv=5, estimator=RandomForestClassifier(random_state=42), n_jobs=-1,\n             param_grid={&#x27;bootstrap&#x27;: [True], &#x27;criterion&#x27;: [&#x27;gini&#x27;],\n                         &#x27;max_depth&#x27;: [None, 10, 20],\n                         &#x27;min_samples_leaf&#x27;: [1, 5],\n                         &#x27;min_samples_split&#x27;: [2, 10],\n                         &#x27;n_estimators&#x27;: [100, 200]},\n             verbose=2)</pre></div></div></div><div class=\"sk-parallel\"><div class=\"sk-parallel-item\"><div class=\"sk-item\"><div class=\"sk-label-container\"><div class=\"sk-label sk-toggleable\"><input class=\"sk-toggleable__control sk-hidden--visually\" id=\"sk-estimator-id-2\" type=\"checkbox\" ><label for=\"sk-estimator-id-2\" class=\"sk-toggleable__label sk-toggleable__label-arrow\">estimator: RandomForestClassifier</label><div class=\"sk-toggleable__content\"><pre>RandomForestClassifier(random_state=42)</pre></div></div></div><div class=\"sk-serial\"><div class=\"sk-item\"><div class=\"sk-estimator sk-toggleable\"><input class=\"sk-toggleable__control sk-hidden--visually\" id=\"sk-estimator-id-3\" type=\"checkbox\" ><label for=\"sk-estimator-id-3\" class=\"sk-toggleable__label sk-toggleable__label-arrow\">RandomForestClassifier</label><div class=\"sk-toggleable__content\"><pre>RandomForestClassifier(random_state=42)</pre></div></div></div></div></div></div></div></div></div></div>"
     },
     "execution_count": 38,
     "metadata": {},
     "output_type": "execute_result"
    }
   ],
   "source": [
    "# Use the first 20% of the data as discussed above (first 5,000 samples)\n",
    "rf_grid_search.fit(X_train_vec[:5000], y_train[:5000])"
   ],
   "metadata": {
    "collapsed": false,
    "ExecuteTime": {
     "end_time": "2023-12-05T22:13:23.763550Z",
     "start_time": "2023-12-05T22:12:04.522966Z"
    }
   }
  },
  {
   "cell_type": "code",
   "execution_count": 53,
   "outputs": [
    {
     "data": {
      "text/plain": "RandomForestClassifier(max_depth=10, min_samples_split=10, n_estimators=200,\n                       random_state=42)",
      "text/html": "<style>#sk-container-id-4 {color: black;}#sk-container-id-4 pre{padding: 0;}#sk-container-id-4 div.sk-toggleable {background-color: white;}#sk-container-id-4 label.sk-toggleable__label {cursor: pointer;display: block;width: 100%;margin-bottom: 0;padding: 0.3em;box-sizing: border-box;text-align: center;}#sk-container-id-4 label.sk-toggleable__label-arrow:before {content: \"▸\";float: left;margin-right: 0.25em;color: #696969;}#sk-container-id-4 label.sk-toggleable__label-arrow:hover:before {color: black;}#sk-container-id-4 div.sk-estimator:hover label.sk-toggleable__label-arrow:before {color: black;}#sk-container-id-4 div.sk-toggleable__content {max-height: 0;max-width: 0;overflow: hidden;text-align: left;background-color: #f0f8ff;}#sk-container-id-4 div.sk-toggleable__content pre {margin: 0.2em;color: black;border-radius: 0.25em;background-color: #f0f8ff;}#sk-container-id-4 input.sk-toggleable__control:checked~div.sk-toggleable__content {max-height: 200px;max-width: 100%;overflow: auto;}#sk-container-id-4 input.sk-toggleable__control:checked~label.sk-toggleable__label-arrow:before {content: \"▾\";}#sk-container-id-4 div.sk-estimator input.sk-toggleable__control:checked~label.sk-toggleable__label {background-color: #d4ebff;}#sk-container-id-4 div.sk-label input.sk-toggleable__control:checked~label.sk-toggleable__label {background-color: #d4ebff;}#sk-container-id-4 input.sk-hidden--visually {border: 0;clip: rect(1px 1px 1px 1px);clip: rect(1px, 1px, 1px, 1px);height: 1px;margin: -1px;overflow: hidden;padding: 0;position: absolute;width: 1px;}#sk-container-id-4 div.sk-estimator {font-family: monospace;background-color: #f0f8ff;border: 1px dotted black;border-radius: 0.25em;box-sizing: border-box;margin-bottom: 0.5em;}#sk-container-id-4 div.sk-estimator:hover {background-color: #d4ebff;}#sk-container-id-4 div.sk-parallel-item::after {content: \"\";width: 100%;border-bottom: 1px solid gray;flex-grow: 1;}#sk-container-id-4 div.sk-label:hover label.sk-toggleable__label {background-color: #d4ebff;}#sk-container-id-4 div.sk-serial::before {content: \"\";position: absolute;border-left: 1px solid gray;box-sizing: border-box;top: 0;bottom: 0;left: 50%;z-index: 0;}#sk-container-id-4 div.sk-serial {display: flex;flex-direction: column;align-items: center;background-color: white;padding-right: 0.2em;padding-left: 0.2em;position: relative;}#sk-container-id-4 div.sk-item {position: relative;z-index: 1;}#sk-container-id-4 div.sk-parallel {display: flex;align-items: stretch;justify-content: center;background-color: white;position: relative;}#sk-container-id-4 div.sk-item::before, #sk-container-id-4 div.sk-parallel-item::before {content: \"\";position: absolute;border-left: 1px solid gray;box-sizing: border-box;top: 0;bottom: 0;left: 50%;z-index: -1;}#sk-container-id-4 div.sk-parallel-item {display: flex;flex-direction: column;z-index: 1;position: relative;background-color: white;}#sk-container-id-4 div.sk-parallel-item:first-child::after {align-self: flex-end;width: 50%;}#sk-container-id-4 div.sk-parallel-item:last-child::after {align-self: flex-start;width: 50%;}#sk-container-id-4 div.sk-parallel-item:only-child::after {width: 0;}#sk-container-id-4 div.sk-dashed-wrapped {border: 1px dashed gray;margin: 0 0.4em 0.5em 0.4em;box-sizing: border-box;padding-bottom: 0.4em;background-color: white;}#sk-container-id-4 div.sk-label label {font-family: monospace;font-weight: bold;display: inline-block;line-height: 1.2em;}#sk-container-id-4 div.sk-label-container {text-align: center;}#sk-container-id-4 div.sk-container {/* jupyter's `normalize.less` sets `[hidden] { display: none; }` but bootstrap.min.css set `[hidden] { display: none !important; }` so we also need the `!important` here to be able to override the default hidden behavior on the sphinx rendered scikit-learn.org. See: https://github.com/scikit-learn/scikit-learn/issues/21755 */display: inline-block !important;position: relative;}#sk-container-id-4 div.sk-text-repr-fallback {display: none;}</style><div id=\"sk-container-id-4\" class=\"sk-top-container\"><div class=\"sk-text-repr-fallback\"><pre>RandomForestClassifier(max_depth=10, min_samples_split=10, n_estimators=200,\n                       random_state=42)</pre><b>In a Jupyter environment, please rerun this cell to show the HTML representation or trust the notebook. <br />On GitHub, the HTML representation is unable to render, please try loading this page with nbviewer.org.</b></div><div class=\"sk-container\" hidden><div class=\"sk-item\"><div class=\"sk-estimator sk-toggleable\"><input class=\"sk-toggleable__control sk-hidden--visually\" id=\"sk-estimator-id-8\" type=\"checkbox\" checked><label for=\"sk-estimator-id-8\" class=\"sk-toggleable__label sk-toggleable__label-arrow\">RandomForestClassifier</label><div class=\"sk-toggleable__content\"><pre>RandomForestClassifier(max_depth=10, min_samples_split=10, n_estimators=200,\n                       random_state=42)</pre></div></div></div></div></div>"
     },
     "execution_count": 53,
     "metadata": {},
     "output_type": "execute_result"
    }
   ],
   "source": [
    "rf_grid_search.best_estimator_"
   ],
   "metadata": {
    "collapsed": false,
    "ExecuteTime": {
     "end_time": "2023-12-05T22:17:51.780749Z",
     "start_time": "2023-12-05T22:17:51.773812Z"
    }
   }
  },
  {
   "cell_type": "code",
   "execution_count": 42,
   "outputs": [
    {
     "data": {
      "text/plain": "{'mean_fit_time': array([ 5.24070606, 10.41813316,  5.04426146, 10.21663995,  4.38319726,\n         8.80651722,  4.2539331 ,  8.78598986,  4.39610906,  8.72044392,\n         4.2690486 ,  8.59784031,  3.97553639,  8.08888326,  3.95311737,\n         8.32393703,  5.13114367, 10.15985913,  5.07035074,  9.89749942,\n         4.29918523,  8.3911272 ,  4.24730287,  6.80360823]),\n 'std_fit_time': array([0.06953078, 0.26937798, 0.16065215, 0.21761795, 0.09666924,\n        0.34402669, 0.17178162, 0.24048523, 0.0488154 , 0.26982686,\n        0.07801862, 0.22645864, 0.06825844, 0.30547296, 0.09046217,\n        0.20190245, 0.13483546, 0.36695792, 0.26886518, 0.1325676 ,\n        0.12108781, 0.22822152, 0.10160006, 0.15483651]),\n 'mean_score_time': array([0.01960244, 0.03225307, 0.01620641, 0.03300962, 0.01506476,\n        0.02914801, 0.0140409 , 0.0276135 , 0.01505618, 0.02583146,\n        0.01760559, 0.02288985, 0.01393504, 0.03162885, 0.0129076 ,\n        0.0224504 , 0.01409898, 0.03050423, 0.0131249 , 0.03110948,\n        0.01612916, 0.02156839, 0.01268444, 0.01886535]),\n 'std_score_time': array([0.00664354, 0.00576816, 0.00568487, 0.00885147, 0.00260149,\n        0.00883993, 0.00674997, 0.0028429 , 0.00521845, 0.00503434,\n        0.01032388, 0.00516481, 0.00289092, 0.0097541 , 0.00380083,\n        0.00269883, 0.00297465, 0.00633907, 0.00336358, 0.00895732,\n        0.00298109, 0.0026126 , 0.00196056, 0.00030449]),\n 'param_bootstrap': masked_array(data=[True, True, True, True, True, True, True, True, True,\n                    True, True, True, True, True, True, True, True, True,\n                    True, True, True, True, True, True],\n              mask=[False, False, False, False, False, False, False, False,\n                    False, False, False, False, False, False, False, False,\n                    False, False, False, False, False, False, False, False],\n        fill_value='?',\n             dtype=object),\n 'param_criterion': masked_array(data=['gini', 'gini', 'gini', 'gini', 'gini', 'gini', 'gini',\n                    'gini', 'gini', 'gini', 'gini', 'gini', 'gini', 'gini',\n                    'gini', 'gini', 'gini', 'gini', 'gini', 'gini', 'gini',\n                    'gini', 'gini', 'gini'],\n              mask=[False, False, False, False, False, False, False, False,\n                    False, False, False, False, False, False, False, False,\n                    False, False, False, False, False, False, False, False],\n        fill_value='?',\n             dtype=object),\n 'param_max_depth': masked_array(data=[None, None, None, None, None, None, None, None, 10, 10,\n                    10, 10, 10, 10, 10, 10, 20, 20, 20, 20, 20, 20, 20, 20],\n              mask=[False, False, False, False, False, False, False, False,\n                    False, False, False, False, False, False, False, False,\n                    False, False, False, False, False, False, False, False],\n        fill_value='?',\n             dtype=object),\n 'param_min_samples_leaf': masked_array(data=[1, 1, 1, 1, 5, 5, 5, 5, 1, 1, 1, 1, 5, 5, 5, 5, 1, 1,\n                    1, 1, 5, 5, 5, 5],\n              mask=[False, False, False, False, False, False, False, False,\n                    False, False, False, False, False, False, False, False,\n                    False, False, False, False, False, False, False, False],\n        fill_value='?',\n             dtype=object),\n 'param_min_samples_split': masked_array(data=[2, 2, 10, 10, 2, 2, 10, 10, 2, 2, 10, 10, 2, 2, 10, 10,\n                    2, 2, 10, 10, 2, 2, 10, 10],\n              mask=[False, False, False, False, False, False, False, False,\n                    False, False, False, False, False, False, False, False,\n                    False, False, False, False, False, False, False, False],\n        fill_value='?',\n             dtype=object),\n 'param_n_estimators': masked_array(data=[100, 200, 100, 200, 100, 200, 100, 200, 100, 200, 100,\n                    200, 100, 200, 100, 200, 100, 200, 100, 200, 100, 200,\n                    100, 200],\n              mask=[False, False, False, False, False, False, False, False,\n                    False, False, False, False, False, False, False, False,\n                    False, False, False, False, False, False, False, False],\n        fill_value='?',\n             dtype=object),\n 'params': [{'bootstrap': True,\n   'criterion': 'gini',\n   'max_depth': None,\n   'min_samples_leaf': 1,\n   'min_samples_split': 2,\n   'n_estimators': 100},\n  {'bootstrap': True,\n   'criterion': 'gini',\n   'max_depth': None,\n   'min_samples_leaf': 1,\n   'min_samples_split': 2,\n   'n_estimators': 200},\n  {'bootstrap': True,\n   'criterion': 'gini',\n   'max_depth': None,\n   'min_samples_leaf': 1,\n   'min_samples_split': 10,\n   'n_estimators': 100},\n  {'bootstrap': True,\n   'criterion': 'gini',\n   'max_depth': None,\n   'min_samples_leaf': 1,\n   'min_samples_split': 10,\n   'n_estimators': 200},\n  {'bootstrap': True,\n   'criterion': 'gini',\n   'max_depth': None,\n   'min_samples_leaf': 5,\n   'min_samples_split': 2,\n   'n_estimators': 100},\n  {'bootstrap': True,\n   'criterion': 'gini',\n   'max_depth': None,\n   'min_samples_leaf': 5,\n   'min_samples_split': 2,\n   'n_estimators': 200},\n  {'bootstrap': True,\n   'criterion': 'gini',\n   'max_depth': None,\n   'min_samples_leaf': 5,\n   'min_samples_split': 10,\n   'n_estimators': 100},\n  {'bootstrap': True,\n   'criterion': 'gini',\n   'max_depth': None,\n   'min_samples_leaf': 5,\n   'min_samples_split': 10,\n   'n_estimators': 200},\n  {'bootstrap': True,\n   'criterion': 'gini',\n   'max_depth': 10,\n   'min_samples_leaf': 1,\n   'min_samples_split': 2,\n   'n_estimators': 100},\n  {'bootstrap': True,\n   'criterion': 'gini',\n   'max_depth': 10,\n   'min_samples_leaf': 1,\n   'min_samples_split': 2,\n   'n_estimators': 200},\n  {'bootstrap': True,\n   'criterion': 'gini',\n   'max_depth': 10,\n   'min_samples_leaf': 1,\n   'min_samples_split': 10,\n   'n_estimators': 100},\n  {'bootstrap': True,\n   'criterion': 'gini',\n   'max_depth': 10,\n   'min_samples_leaf': 1,\n   'min_samples_split': 10,\n   'n_estimators': 200},\n  {'bootstrap': True,\n   'criterion': 'gini',\n   'max_depth': 10,\n   'min_samples_leaf': 5,\n   'min_samples_split': 2,\n   'n_estimators': 100},\n  {'bootstrap': True,\n   'criterion': 'gini',\n   'max_depth': 10,\n   'min_samples_leaf': 5,\n   'min_samples_split': 2,\n   'n_estimators': 200},\n  {'bootstrap': True,\n   'criterion': 'gini',\n   'max_depth': 10,\n   'min_samples_leaf': 5,\n   'min_samples_split': 10,\n   'n_estimators': 100},\n  {'bootstrap': True,\n   'criterion': 'gini',\n   'max_depth': 10,\n   'min_samples_leaf': 5,\n   'min_samples_split': 10,\n   'n_estimators': 200},\n  {'bootstrap': True,\n   'criterion': 'gini',\n   'max_depth': 20,\n   'min_samples_leaf': 1,\n   'min_samples_split': 2,\n   'n_estimators': 100},\n  {'bootstrap': True,\n   'criterion': 'gini',\n   'max_depth': 20,\n   'min_samples_leaf': 1,\n   'min_samples_split': 2,\n   'n_estimators': 200},\n  {'bootstrap': True,\n   'criterion': 'gini',\n   'max_depth': 20,\n   'min_samples_leaf': 1,\n   'min_samples_split': 10,\n   'n_estimators': 100},\n  {'bootstrap': True,\n   'criterion': 'gini',\n   'max_depth': 20,\n   'min_samples_leaf': 1,\n   'min_samples_split': 10,\n   'n_estimators': 200},\n  {'bootstrap': True,\n   'criterion': 'gini',\n   'max_depth': 20,\n   'min_samples_leaf': 5,\n   'min_samples_split': 2,\n   'n_estimators': 100},\n  {'bootstrap': True,\n   'criterion': 'gini',\n   'max_depth': 20,\n   'min_samples_leaf': 5,\n   'min_samples_split': 2,\n   'n_estimators': 200},\n  {'bootstrap': True,\n   'criterion': 'gini',\n   'max_depth': 20,\n   'min_samples_leaf': 5,\n   'min_samples_split': 10,\n   'n_estimators': 100},\n  {'bootstrap': True,\n   'criterion': 'gini',\n   'max_depth': 20,\n   'min_samples_leaf': 5,\n   'min_samples_split': 10,\n   'n_estimators': 200}],\n 'split0_test_score': array([0.803, 0.814, 0.801, 0.822, 0.807, 0.816, 0.807, 0.816, 0.812,\n        0.82 , 0.815, 0.819, 0.807, 0.805, 0.807, 0.805, 0.812, 0.82 ,\n        0.802, 0.825, 0.81 , 0.815, 0.81 , 0.815]),\n 'split1_test_score': array([0.813, 0.818, 0.817, 0.818, 0.81 , 0.806, 0.81 , 0.806, 0.8  ,\n        0.81 , 0.807, 0.813, 0.805, 0.807, 0.805, 0.807, 0.81 , 0.814,\n        0.815, 0.819, 0.81 , 0.806, 0.81 , 0.806]),\n 'split2_test_score': array([0.819, 0.813, 0.808, 0.824, 0.817, 0.822, 0.817, 0.822, 0.812,\n        0.816, 0.814, 0.824, 0.822, 0.817, 0.822, 0.817, 0.81 , 0.815,\n        0.815, 0.82 , 0.817, 0.822, 0.817, 0.822]),\n 'split3_test_score': array([0.803, 0.82 , 0.798, 0.812, 0.813, 0.82 , 0.813, 0.82 , 0.815,\n        0.82 , 0.813, 0.818, 0.818, 0.814, 0.818, 0.814, 0.806, 0.815,\n        0.803, 0.811, 0.808, 0.82 , 0.808, 0.82 ]),\n 'split4_test_score': array([0.795, 0.799, 0.811, 0.806, 0.804, 0.805, 0.804, 0.805, 0.8  ,\n        0.807, 0.807, 0.809, 0.81 , 0.811, 0.81 , 0.811, 0.794, 0.795,\n        0.81 , 0.804, 0.804, 0.804, 0.804, 0.804]),\n 'mean_test_score': array([0.8066, 0.8128, 0.807 , 0.8164, 0.8102, 0.8138, 0.8102, 0.8138,\n        0.8078, 0.8146, 0.8112, 0.8166, 0.8124, 0.8108, 0.8124, 0.8108,\n        0.8064, 0.8118, 0.809 , 0.8158, 0.8098, 0.8134, 0.8098, 0.8134]),\n 'std_test_score': array([0.00842852, 0.00735935, 0.00684105, 0.00662118, 0.00453431,\n        0.00705408, 0.00453431, 0.00705408, 0.0064622 , 0.00527636,\n        0.00348712, 0.0051614 , 0.00652993, 0.0044    , 0.00652993,\n        0.0044    , 0.00649923, 0.00865794, 0.00562139, 0.0074135 ,\n        0.00421426, 0.00725534, 0.00421426, 0.00725534]),\n 'rank_test_score': array([23,  9, 22,  2, 16,  5, 16,  5, 21,  4, 13,  1, 10, 14, 10, 14, 24,\n        12, 20,  3, 18,  7, 18,  7], dtype=int32)}"
     },
     "execution_count": 42,
     "metadata": {},
     "output_type": "execute_result"
    }
   ],
   "source": [
    "rf_grid_search.cv_results_"
   ],
   "metadata": {
    "collapsed": false,
    "ExecuteTime": {
     "end_time": "2023-12-05T22:14:31.673131Z",
     "start_time": "2023-12-05T22:14:31.669816Z"
    }
   }
  },
  {
   "cell_type": "code",
   "execution_count": 214,
   "outputs": [
    {
     "data": {
      "text/plain": "Text(0.5, 0, 'Model Number')"
     },
     "execution_count": 214,
     "metadata": {},
     "output_type": "execute_result"
    },
    {
     "data": {
      "text/plain": "<Figure size 640x480 with 1 Axes>",
      "image/png": "[encoded data removed]"
     },
     "metadata": {},
     "output_type": "display_data"
    }
   ],
   "source": [
    "plt.bar(np.arange(24), rf_grid_search.cv_results_[\"mean_test_score\"])\n",
    "plt.ylim(bottom=0.8, top=0.82)\n",
    "plt.title(\"Mean Test Scores of Random Forest Grid Search Models\")\n",
    "plt.ylabel(\"Mean Accuracy\")\n",
    "plt.xlabel(\"Model Number\")"
   ],
   "metadata": {
    "collapsed": false,
    "ExecuteTime": {
     "end_time": "2023-12-06T03:33:59.956511Z",
     "start_time": "2023-12-06T03:33:59.861919Z"
    }
   }
  },
  {
   "cell_type": "code",
   "execution_count": 59,
   "outputs": [
    {
     "name": "stdout",
     "output_type": "stream",
     "text": [
      "{'bootstrap': True, 'criterion': 'gini', 'max_depth': None, 'min_samples_leaf': 1, 'min_samples_split': 10, 'n_estimators': 200}\n",
      "{'bootstrap': True, 'criterion': 'gini', 'max_depth': 10, 'min_samples_leaf': 1, 'min_samples_split': 10, 'n_estimators': 200}\n",
      "{'bootstrap': True, 'criterion': 'gini', 'max_depth': 20, 'min_samples_leaf': 1, 'min_samples_split': 10, 'n_estimators': 200}\n"
     ]
    }
   ],
   "source": [
    "# Indices 3, 11, and 19 seem to have the highest performance. We print their parameters since we can't neatly plot them on a 2D heatmap like we did for SVM.\n",
    "print(rf_grid_search.cv_results_[\"params\"][3])\n",
    "print(rf_grid_search.cv_results_[\"params\"][11])\n",
    "print(rf_grid_search.cv_results_[\"params\"][19])\n",
    "# It appears that 1 min_samples_leaf, 10 min_samples_split, and 200 n_estimators performed the best, with the max_depth choice (None, 10, or 20) making a difference, but not as much."
   ],
   "metadata": {
    "collapsed": false,
    "ExecuteTime": {
     "end_time": "2023-12-05T22:22:41.603851Z",
     "start_time": "2023-12-05T22:22:41.600978Z"
    }
   }
  },
  {
   "cell_type": "code",
   "execution_count": 54,
   "outputs": [
    {
     "data": {
      "text/plain": "{'bootstrap': True,\n 'criterion': 'gini',\n 'max_depth': 10,\n 'min_samples_leaf': 1,\n 'min_samples_split': 10,\n 'n_estimators': 200}"
     },
     "execution_count": 54,
     "metadata": {},
     "output_type": "execute_result"
    }
   ],
   "source": [
    "rf_grid_search.best_params_"
   ],
   "metadata": {
    "collapsed": false,
    "ExecuteTime": {
     "end_time": "2023-12-05T22:18:20.325217Z",
     "start_time": "2023-12-05T22:18:20.321155Z"
    }
   }
  },
  {
   "cell_type": "code",
   "execution_count": 60,
   "outputs": [],
   "source": [
    "rf_param_grid2 = {\n",
    "    'n_estimators': [200, 300, 400],  # Expanding around the best value\n",
    "    'max_depth': [10],                # Keeping at 10 since it seemed to have a less significant effect than the other hyperparameters\n",
    "    'min_samples_split': [8, 10, 12],  # Exploring around the best value we found\n",
    "    'min_samples_leaf': [1, 2, 3],     # Since 1 worked best, we look at small increments above it\n",
    "    'bootstrap': [True],               # Keeping it constant since it seems to work well\n",
    "    'criterion': ['gini']              # Keeping it constant as it's less likely to be as sensitive as others\n",
    "}"
   ],
   "metadata": {
    "collapsed": false,
    "ExecuteTime": {
     "end_time": "2023-12-05T22:32:45.639740Z",
     "start_time": "2023-12-05T22:32:45.636115Z"
    }
   }
  },
  {
   "cell_type": "code",
   "execution_count": 61,
   "outputs": [
    {
     "name": "stdout",
     "output_type": "stream",
     "text": [
      "Fitting 5 folds for each of 27 candidates, totalling 135 fits\n"
     ]
    },
    {
     "data": {
      "text/plain": "GridSearchCV(cv=5, estimator=RandomForestClassifier(random_state=42), n_jobs=-1,\n             param_grid={'bootstrap': [True], 'criterion': ['gini'],\n                         'max_depth': [10], 'min_samples_leaf': [1, 2, 3],\n                         'min_samples_split': [8, 10, 12],\n                         'n_estimators': [200, 300, 400]},\n             verbose=2)",
      "text/html": "<style>#sk-container-id-5 {color: black;}#sk-container-id-5 pre{padding: 0;}#sk-container-id-5 div.sk-toggleable {background-color: white;}#sk-container-id-5 label.sk-toggleable__label {cursor: pointer;display: block;width: 100%;margin-bottom: 0;padding: 0.3em;box-sizing: border-box;text-align: center;}#sk-container-id-5 label.sk-toggleable__label-arrow:before {content: \"▸\";float: left;margin-right: 0.25em;color: #696969;}#sk-container-id-5 label.sk-toggleable__label-arrow:hover:before {color: black;}#sk-container-id-5 div.sk-estimator:hover label.sk-toggleable__label-arrow:before {color: black;}#sk-container-id-5 div.sk-toggleable__content {max-height: 0;max-width: 0;overflow: hidden;text-align: left;background-color: #f0f8ff;}#sk-container-id-5 div.sk-toggleable__content pre {margin: 0.2em;color: black;border-radius: 0.25em;background-color: #f0f8ff;}#sk-container-id-5 input.sk-toggleable__control:checked~div.sk-toggleable__content {max-height: 200px;max-width: 100%;overflow: auto;}#sk-container-id-5 input.sk-toggleable__control:checked~label.sk-toggleable__label-arrow:before {content: \"▾\";}#sk-container-id-5 div.sk-estimator input.sk-toggleable__control:checked~label.sk-toggleable__label {background-color: #d4ebff;}#sk-container-id-5 div.sk-label input.sk-toggleable__control:checked~label.sk-toggleable__label {background-color: #d4ebff;}#sk-container-id-5 input.sk-hidden--visually {border: 0;clip: rect(1px 1px 1px 1px);clip: rect(1px, 1px, 1px, 1px);height: 1px;margin: -1px;overflow: hidden;padding: 0;position: absolute;width: 1px;}#sk-container-id-5 div.sk-estimator {font-family: monospace;background-color: #f0f8ff;border: 1px dotted black;border-radius: 0.25em;box-sizing: border-box;margin-bottom: 0.5em;}#sk-container-id-5 div.sk-estimator:hover {background-color: #d4ebff;}#sk-container-id-5 div.sk-parallel-item::after {content: \"\";width: 100%;border-bottom: 1px solid gray;flex-grow: 1;}#sk-container-id-5 div.sk-label:hover label.sk-toggleable__label {background-color: #d4ebff;}#sk-container-id-5 div.sk-serial::before {content: \"\";position: absolute;border-left: 1px solid gray;box-sizing: border-box;top: 0;bottom: 0;left: 50%;z-index: 0;}#sk-container-id-5 div.sk-serial {display: flex;flex-direction: column;align-items: center;background-color: white;padding-right: 0.2em;padding-left: 0.2em;position: relative;}#sk-container-id-5 div.sk-item {position: relative;z-index: 1;}#sk-container-id-5 div.sk-parallel {display: flex;align-items: stretch;justify-content: center;background-color: white;position: relative;}#sk-container-id-5 div.sk-item::before, #sk-container-id-5 div.sk-parallel-item::before {content: \"\";position: absolute;border-left: 1px solid gray;box-sizing: border-box;top: 0;bottom: 0;left: 50%;z-index: -1;}#sk-container-id-5 div.sk-parallel-item {display: flex;flex-direction: column;z-index: 1;position: relative;background-color: white;}#sk-container-id-5 div.sk-parallel-item:first-child::after {align-self: flex-end;width: 50%;}#sk-container-id-5 div.sk-parallel-item:last-child::after {align-self: flex-start;width: 50%;}#sk-container-id-5 div.sk-parallel-item:only-child::after {width: 0;}#sk-container-id-5 div.sk-dashed-wrapped {border: 1px dashed gray;margin: 0 0.4em 0.5em 0.4em;box-sizing: border-box;padding-bottom: 0.4em;background-color: white;}#sk-container-id-5 div.sk-label label {font-family: monospace;font-weight: bold;display: inline-block;line-height: 1.2em;}#sk-container-id-5 div.sk-label-container {text-align: center;}#sk-container-id-5 div.sk-container {/* jupyter's `normalize.less` sets `[hidden] { display: none; }` but bootstrap.min.css set `[hidden] { display: none !important; }` so we also need the `!important` here to be able to override the default hidden behavior on the sphinx rendered scikit-learn.org. See: https://github.com/scikit-learn/scikit-learn/issues/21755 */display: inline-block !important;position: relative;}#sk-container-id-5 div.sk-text-repr-fallback {display: none;}</style><div id=\"sk-container-id-5\" class=\"sk-top-container\"><div class=\"sk-text-repr-fallback\"><pre>GridSearchCV(cv=5, estimator=RandomForestClassifier(random_state=42), n_jobs=-1,\n             param_grid={&#x27;bootstrap&#x27;: [True], &#x27;criterion&#x27;: [&#x27;gini&#x27;],\n                         &#x27;max_depth&#x27;: [10], &#x27;min_samples_leaf&#x27;: [1, 2, 3],\n                         &#x27;min_samples_split&#x27;: [8, 10, 12],\n                         &#x27;n_estimators&#x27;: [200, 300, 400]},\n             verbose=2)</pre><b>In a Jupyter environment, please rerun this cell to show the HTML representation or trust the notebook. <br />On GitHub, the HTML representation is unable to render, please try loading this page with nbviewer.org.</b></div><div class=\"sk-container\" hidden><div class=\"sk-item sk-dashed-wrapped\"><div class=\"sk-label-container\"><div class=\"sk-label sk-toggleable\"><input class=\"sk-toggleable__control sk-hidden--visually\" id=\"sk-estimator-id-9\" type=\"checkbox\" ><label for=\"sk-estimator-id-9\" class=\"sk-toggleable__label sk-toggleable__label-arrow\">GridSearchCV</label><div class=\"sk-toggleable__content\"><pre>GridSearchCV(cv=5, estimator=RandomForestClassifier(random_state=42), n_jobs=-1,\n             param_grid={&#x27;bootstrap&#x27;: [True], &#x27;criterion&#x27;: [&#x27;gini&#x27;],\n                         &#x27;max_depth&#x27;: [10], &#x27;min_samples_leaf&#x27;: [1, 2, 3],\n                         &#x27;min_samples_split&#x27;: [8, 10, 12],\n                         &#x27;n_estimators&#x27;: [200, 300, 400]},\n             verbose=2)</pre></div></div></div><div class=\"sk-parallel\"><div class=\"sk-parallel-item\"><div class=\"sk-item\"><div class=\"sk-label-container\"><div class=\"sk-label sk-toggleable\"><input class=\"sk-toggleable__control sk-hidden--visually\" id=\"sk-estimator-id-10\" type=\"checkbox\" ><label for=\"sk-estimator-id-10\" class=\"sk-toggleable__label sk-toggleable__label-arrow\">estimator: RandomForestClassifier</label><div class=\"sk-toggleable__content\"><pre>RandomForestClassifier(random_state=42)</pre></div></div></div><div class=\"sk-serial\"><div class=\"sk-item\"><div class=\"sk-estimator sk-toggleable\"><input class=\"sk-toggleable__control sk-hidden--visually\" id=\"sk-estimator-id-11\" type=\"checkbox\" ><label for=\"sk-estimator-id-11\" class=\"sk-toggleable__label sk-toggleable__label-arrow\">RandomForestClassifier</label><div class=\"sk-toggleable__content\"><pre>RandomForestClassifier(random_state=42)</pre></div></div></div></div></div></div></div></div></div></div>"
     },
     "execution_count": 61,
     "metadata": {},
     "output_type": "execute_result"
    }
   ],
   "source": [
    "# Set up the grid search with cross-validation\n",
    "rf_grid_search2 = GridSearchCV(estimator=rf, param_grid=rf_param_grid2, cv=5, n_jobs=-1, verbose=2)\n",
    "# Use the first 20% of the data as discussed above (first 5,000 samples)\n",
    "rf_grid_search2.fit(X_train_vec[:5000], y_train[:5000])"
   ],
   "metadata": {
    "collapsed": false,
    "ExecuteTime": {
     "end_time": "2023-12-05T22:35:40.222009Z",
     "start_time": "2023-12-05T22:32:53.091454Z"
    }
   }
  },
  {
   "cell_type": "code",
   "execution_count": 63,
   "outputs": [
    {
     "data": {
      "text/plain": "RandomForestClassifier(max_depth=10, min_samples_split=10, n_estimators=300,\n                       random_state=42)",
      "text/html": "<style>#sk-container-id-7 {color: black;}#sk-container-id-7 pre{padding: 0;}#sk-container-id-7 div.sk-toggleable {background-color: white;}#sk-container-id-7 label.sk-toggleable__label {cursor: pointer;display: block;width: 100%;margin-bottom: 0;padding: 0.3em;box-sizing: border-box;text-align: center;}#sk-container-id-7 label.sk-toggleable__label-arrow:before {content: \"▸\";float: left;margin-right: 0.25em;color: #696969;}#sk-container-id-7 label.sk-toggleable__label-arrow:hover:before {color: black;}#sk-container-id-7 div.sk-estimator:hover label.sk-toggleable__label-arrow:before {color: black;}#sk-container-id-7 div.sk-toggleable__content {max-height: 0;max-width: 0;overflow: hidden;text-align: left;background-color: #f0f8ff;}#sk-container-id-7 div.sk-toggleable__content pre {margin: 0.2em;color: black;border-radius: 0.25em;background-color: #f0f8ff;}#sk-container-id-7 input.sk-toggleable__control:checked~div.sk-toggleable__content {max-height: 200px;max-width: 100%;overflow: auto;}#sk-container-id-7 input.sk-toggleable__control:checked~label.sk-toggleable__label-arrow:before {content: \"▾\";}#sk-container-id-7 div.sk-estimator input.sk-toggleable__control:checked~label.sk-toggleable__label {background-color: #d4ebff;}#sk-container-id-7 div.sk-label input.sk-toggleable__control:checked~label.sk-toggleable__label {background-color: #d4ebff;}#sk-container-id-7 input.sk-hidden--visually {border: 0;clip: rect(1px 1px 1px 1px);clip: rect(1px, 1px, 1px, 1px);height: 1px;margin: -1px;overflow: hidden;padding: 0;position: absolute;width: 1px;}#sk-container-id-7 div.sk-estimator {font-family: monospace;background-color: #f0f8ff;border: 1px dotted black;border-radius: 0.25em;box-sizing: border-box;margin-bottom: 0.5em;}#sk-container-id-7 div.sk-estimator:hover {background-color: #d4ebff;}#sk-container-id-7 div.sk-parallel-item::after {content: \"\";width: 100%;border-bottom: 1px solid gray;flex-grow: 1;}#sk-container-id-7 div.sk-label:hover label.sk-toggleable__label {background-color: #d4ebff;}#sk-container-id-7 div.sk-serial::before {content: \"\";position: absolute;border-left: 1px solid gray;box-sizing: border-box;top: 0;bottom: 0;left: 50%;z-index: 0;}#sk-container-id-7 div.sk-serial {display: flex;flex-direction: column;align-items: center;background-color: white;padding-right: 0.2em;padding-left: 0.2em;position: relative;}#sk-container-id-7 div.sk-item {position: relative;z-index: 1;}#sk-container-id-7 div.sk-parallel {display: flex;align-items: stretch;justify-content: center;background-color: white;position: relative;}#sk-container-id-7 div.sk-item::before, #sk-container-id-7 div.sk-parallel-item::before {content: \"\";position: absolute;border-left: 1px solid gray;box-sizing: border-box;top: 0;bottom: 0;left: 50%;z-index: -1;}#sk-container-id-7 div.sk-parallel-item {display: flex;flex-direction: column;z-index: 1;position: relative;background-color: white;}#sk-container-id-7 div.sk-parallel-item:first-child::after {align-self: flex-end;width: 50%;}#sk-container-id-7 div.sk-parallel-item:last-child::after {align-self: flex-start;width: 50%;}#sk-container-id-7 div.sk-parallel-item:only-child::after {width: 0;}#sk-container-id-7 div.sk-dashed-wrapped {border: 1px dashed gray;margin: 0 0.4em 0.5em 0.4em;box-sizing: border-box;padding-bottom: 0.4em;background-color: white;}#sk-container-id-7 div.sk-label label {font-family: monospace;font-weight: bold;display: inline-block;line-height: 1.2em;}#sk-container-id-7 div.sk-label-container {text-align: center;}#sk-container-id-7 div.sk-container {/* jupyter's `normalize.less` sets `[hidden] { display: none; }` but bootstrap.min.css set `[hidden] { display: none !important; }` so we also need the `!important` here to be able to override the default hidden behavior on the sphinx rendered scikit-learn.org. See: https://github.com/scikit-learn/scikit-learn/issues/21755 */display: inline-block !important;position: relative;}#sk-container-id-7 div.sk-text-repr-fallback {display: none;}</style><div id=\"sk-container-id-7\" class=\"sk-top-container\"><div class=\"sk-text-repr-fallback\"><pre>RandomForestClassifier(max_depth=10, min_samples_split=10, n_estimators=300,\n                       random_state=42)</pre><b>In a Jupyter environment, please rerun this cell to show the HTML representation or trust the notebook. <br />On GitHub, the HTML representation is unable to render, please try loading this page with nbviewer.org.</b></div><div class=\"sk-container\" hidden><div class=\"sk-item\"><div class=\"sk-estimator sk-toggleable\"><input class=\"sk-toggleable__control sk-hidden--visually\" id=\"sk-estimator-id-13\" type=\"checkbox\" checked><label for=\"sk-estimator-id-13\" class=\"sk-toggleable__label sk-toggleable__label-arrow\">RandomForestClassifier</label><div class=\"sk-toggleable__content\"><pre>RandomForestClassifier(max_depth=10, min_samples_split=10, n_estimators=300,\n                       random_state=42)</pre></div></div></div></div></div>"
     },
     "execution_count": 63,
     "metadata": {},
     "output_type": "execute_result"
    }
   ],
   "source": [
    "rf_grid_search2.best_estimator_"
   ],
   "metadata": {
    "collapsed": false,
    "ExecuteTime": {
     "end_time": "2023-12-05T22:36:00.064893Z",
     "start_time": "2023-12-05T22:36:00.061509Z"
    }
   }
  },
  {
   "cell_type": "code",
   "execution_count": 64,
   "outputs": [
    {
     "data": {
      "text/plain": "{'bootstrap': True,\n 'criterion': 'gini',\n 'max_depth': 10,\n 'min_samples_leaf': 1,\n 'min_samples_split': 10,\n 'n_estimators': 300}"
     },
     "execution_count": 64,
     "metadata": {},
     "output_type": "execute_result"
    }
   ],
   "source": [
    "rf_grid_search2.best_params_"
   ],
   "metadata": {
    "collapsed": false,
    "ExecuteTime": {
     "end_time": "2023-12-05T22:36:12.001795Z",
     "start_time": "2023-12-05T22:36:11.991771Z"
    }
   }
  },
  {
   "cell_type": "code",
   "execution_count": 215,
   "outputs": [
    {
     "data": {
      "text/plain": "Text(0.5, 0, 'Model Number')"
     },
     "execution_count": 215,
     "metadata": {},
     "output_type": "execute_result"
    },
    {
     "data": {
      "text/plain": "<Figure size 640x480 with 1 Axes>",
      "image/png": "[encoded data removed]"
     },
     "metadata": {},
     "output_type": "display_data"
    }
   ],
   "source": [
    "plt.bar(np.arange(27), rf_grid_search2.cv_results_[\"mean_test_score\"])\n",
    "plt.ylim(bottom=0.8, top=0.82)\n",
    "plt.title(\"Mean Test Scores of Random Forest Grid Search Models (Second Iteration)\")\n",
    "plt.ylabel(\"Mean Accuracy\")\n",
    "plt.xlabel(\"Model Number\")"
   ],
   "metadata": {
    "collapsed": false,
    "ExecuteTime": {
     "end_time": "2023-12-06T03:34:29.295342Z",
     "start_time": "2023-12-06T03:34:29.200587Z"
    }
   }
  },
  {
   "cell_type": "code",
   "execution_count": 70,
   "outputs": [
    {
     "name": "stdout",
     "output_type": "stream",
     "text": [
      "{'bootstrap': True, 'criterion': 'gini', 'max_depth': 10, 'min_samples_leaf': 1, 'min_samples_split': 10, 'n_estimators': 300}\n",
      "{'bootstrap': True, 'criterion': 'gini', 'max_depth': 10, 'min_samples_leaf': 1, 'min_samples_split': 10, 'n_estimators': 400}\n",
      "{'bootstrap': True, 'criterion': 'gini', 'max_depth': 10, 'min_samples_leaf': 1, 'min_samples_split': 12, 'n_estimators': 400}\n",
      "{'bootstrap': True, 'criterion': 'gini', 'max_depth': 10, 'min_samples_leaf': 1, 'min_samples_split': 12, 'n_estimators': 300}\n"
     ]
    }
   ],
   "source": [
    "# Indices 4, 5, and 8 seem to have the highest performance. We print their parameters since we can't neatly plot them on a 2D heatmap like we did for SVM.\n",
    "print(rf_grid_search2.cv_results_[\"params\"][4])\n",
    "print(rf_grid_search2.cv_results_[\"params\"][5])\n",
    "print(rf_grid_search2.cv_results_[\"params\"][8])\n",
    "# It appears that 1 min_samples_leaf, 10-12 min_samples_split, and 300-400 n_estimators performed the best.\n",
    "\n",
    "# 12 min_samples_split with 300 estimators didn't seem to perform quite as well\n",
    "print(rf_grid_search2.cv_results_[\"params\"][7])\n",
    "\n",
    "# Even though this grid search was only run on the first 5,000 samples of data, it's clear at this point that the random forest classifier is not achieving as good performance as the SVM or even the logistic regression model - those achieved accuracies of at least 0.85, whereas even with the best parameters, this model does not seem likely to go much above 0.82 based on the preceding model runs."
   ],
   "metadata": {
    "collapsed": false,
    "ExecuteTime": {
     "end_time": "2023-12-05T22:40:37.034375Z",
     "start_time": "2023-12-05T22:40:37.031220Z"
    }
   }
  },
  {
   "cell_type": "code",
   "execution_count": 73,
   "outputs": [
    {
     "name": "stdout",
     "output_type": "stream",
     "text": [
      "Fitting 5 folds for each of 9 candidates, totalling 45 fits\n"
     ]
    },
    {
     "data": {
      "text/plain": "GridSearchCV(cv=5, estimator=SVC(), n_jobs=-1,\n             param_grid={'C': [2, 10, 50], 'gamma': [0.2, 1, 5]}, refit=False,\n             verbose=2)",
      "text/html": "<style>#sk-container-id-8 {color: black;}#sk-container-id-8 pre{padding: 0;}#sk-container-id-8 div.sk-toggleable {background-color: white;}#sk-container-id-8 label.sk-toggleable__label {cursor: pointer;display: block;width: 100%;margin-bottom: 0;padding: 0.3em;box-sizing: border-box;text-align: center;}#sk-container-id-8 label.sk-toggleable__label-arrow:before {content: \"▸\";float: left;margin-right: 0.25em;color: #696969;}#sk-container-id-8 label.sk-toggleable__label-arrow:hover:before {color: black;}#sk-container-id-8 div.sk-estimator:hover label.sk-toggleable__label-arrow:before {color: black;}#sk-container-id-8 div.sk-toggleable__content {max-height: 0;max-width: 0;overflow: hidden;text-align: left;background-color: #f0f8ff;}#sk-container-id-8 div.sk-toggleable__content pre {margin: 0.2em;color: black;border-radius: 0.25em;background-color: #f0f8ff;}#sk-container-id-8 input.sk-toggleable__control:checked~div.sk-toggleable__content {max-height: 200px;max-width: 100%;overflow: auto;}#sk-container-id-8 input.sk-toggleable__control:checked~label.sk-toggleable__label-arrow:before {content: \"▾\";}#sk-container-id-8 div.sk-estimator input.sk-toggleable__control:checked~label.sk-toggleable__label {background-color: #d4ebff;}#sk-container-id-8 div.sk-label input.sk-toggleable__control:checked~label.sk-toggleable__label {background-color: #d4ebff;}#sk-container-id-8 input.sk-hidden--visually {border: 0;clip: rect(1px 1px 1px 1px);clip: rect(1px, 1px, 1px, 1px);height: 1px;margin: -1px;overflow: hidden;padding: 0;position: absolute;width: 1px;}#sk-container-id-8 div.sk-estimator {font-family: monospace;background-color: #f0f8ff;border: 1px dotted black;border-radius: 0.25em;box-sizing: border-box;margin-bottom: 0.5em;}#sk-container-id-8 div.sk-estimator:hover {background-color: #d4ebff;}#sk-container-id-8 div.sk-parallel-item::after {content: \"\";width: 100%;border-bottom: 1px solid gray;flex-grow: 1;}#sk-container-id-8 div.sk-label:hover label.sk-toggleable__label {background-color: #d4ebff;}#sk-container-id-8 div.sk-serial::before {content: \"\";position: absolute;border-left: 1px solid gray;box-sizing: border-box;top: 0;bottom: 0;left: 50%;z-index: 0;}#sk-container-id-8 div.sk-serial {display: flex;flex-direction: column;align-items: center;background-color: white;padding-right: 0.2em;padding-left: 0.2em;position: relative;}#sk-container-id-8 div.sk-item {position: relative;z-index: 1;}#sk-container-id-8 div.sk-parallel {display: flex;align-items: stretch;justify-content: center;background-color: white;position: relative;}#sk-container-id-8 div.sk-item::before, #sk-container-id-8 div.sk-parallel-item::before {content: \"\";position: absolute;border-left: 1px solid gray;box-sizing: border-box;top: 0;bottom: 0;left: 50%;z-index: -1;}#sk-container-id-8 div.sk-parallel-item {display: flex;flex-direction: column;z-index: 1;position: relative;background-color: white;}#sk-container-id-8 div.sk-parallel-item:first-child::after {align-self: flex-end;width: 50%;}#sk-container-id-8 div.sk-parallel-item:last-child::after {align-self: flex-start;width: 50%;}#sk-container-id-8 div.sk-parallel-item:only-child::after {width: 0;}#sk-container-id-8 div.sk-dashed-wrapped {border: 1px dashed gray;margin: 0 0.4em 0.5em 0.4em;box-sizing: border-box;padding-bottom: 0.4em;background-color: white;}#sk-container-id-8 div.sk-label label {font-family: monospace;font-weight: bold;display: inline-block;line-height: 1.2em;}#sk-container-id-8 div.sk-label-container {text-align: center;}#sk-container-id-8 div.sk-container {/* jupyter's `normalize.less` sets `[hidden] { display: none; }` but bootstrap.min.css set `[hidden] { display: none !important; }` so we also need the `!important` here to be able to override the default hidden behavior on the sphinx rendered scikit-learn.org. See: https://github.com/scikit-learn/scikit-learn/issues/21755 */display: inline-block !important;position: relative;}#sk-container-id-8 div.sk-text-repr-fallback {display: none;}</style><div id=\"sk-container-id-8\" class=\"sk-top-container\"><div class=\"sk-text-repr-fallback\"><pre>GridSearchCV(cv=5, estimator=SVC(), n_jobs=-1,\n             param_grid={&#x27;C&#x27;: [2, 10, 50], &#x27;gamma&#x27;: [0.2, 1, 5]}, refit=False,\n             verbose=2)</pre><b>In a Jupyter environment, please rerun this cell to show the HTML representation or trust the notebook. <br />On GitHub, the HTML representation is unable to render, please try loading this page with nbviewer.org.</b></div><div class=\"sk-container\" hidden><div class=\"sk-item sk-dashed-wrapped\"><div class=\"sk-label-container\"><div class=\"sk-label sk-toggleable\"><input class=\"sk-toggleable__control sk-hidden--visually\" id=\"sk-estimator-id-14\" type=\"checkbox\" ><label for=\"sk-estimator-id-14\" class=\"sk-toggleable__label sk-toggleable__label-arrow\">GridSearchCV</label><div class=\"sk-toggleable__content\"><pre>GridSearchCV(cv=5, estimator=SVC(), n_jobs=-1,\n             param_grid={&#x27;C&#x27;: [2, 10, 50], &#x27;gamma&#x27;: [0.2, 1, 5]}, refit=False,\n             verbose=2)</pre></div></div></div><div class=\"sk-parallel\"><div class=\"sk-parallel-item\"><div class=\"sk-item\"><div class=\"sk-label-container\"><div class=\"sk-label sk-toggleable\"><input class=\"sk-toggleable__control sk-hidden--visually\" id=\"sk-estimator-id-15\" type=\"checkbox\" ><label for=\"sk-estimator-id-15\" class=\"sk-toggleable__label sk-toggleable__label-arrow\">estimator: SVC</label><div class=\"sk-toggleable__content\"><pre>SVC()</pre></div></div></div><div class=\"sk-serial\"><div class=\"sk-item\"><div class=\"sk-estimator sk-toggleable\"><input class=\"sk-toggleable__control sk-hidden--visually\" id=\"sk-estimator-id-16\" type=\"checkbox\" ><label for=\"sk-estimator-id-16\" class=\"sk-toggleable__label sk-toggleable__label-arrow\">SVC</label><div class=\"sk-toggleable__content\"><pre>SVC()</pre></div></div></div></div></div></div></div></div></div></div>"
     },
     "execution_count": 73,
     "metadata": {},
     "output_type": "execute_result"
    }
   ],
   "source": [
    "# Going back to SVM to see if we can further tune the parameters\n",
    "\n",
    "svm_param_grid2 = {'C': [2, 10, 50],\n",
    "              'gamma': [0.2, 1, 5]}\n",
    "\n",
    "svm_grid2 = GridSearchCV(svm.SVC(), svm_param_grid2, refit=False, verbose=2, n_jobs=-1, cv=5)\n",
    "\n",
    "svm_grid2.fit(X_train_vec[:5000], y_train[:5000])"
   ],
   "metadata": {
    "collapsed": false,
    "ExecuteTime": {
     "end_time": "2023-12-05T22:56:08.234608Z",
     "start_time": "2023-12-05T22:55:52.788393Z"
    }
   }
  },
  {
   "cell_type": "code",
   "execution_count": 75,
   "outputs": [
    {
     "name": "stdout",
     "output_type": "stream",
     "text": [
      "{'C': 2, 'gamma': 1}\n"
     ]
    }
   ],
   "source": [
    "# Print best parameters after tuning\n",
    "print(svm_grid2.best_params_)"
   ],
   "metadata": {
    "collapsed": false,
    "ExecuteTime": {
     "end_time": "2023-12-05T22:56:19.097115Z",
     "start_time": "2023-12-05T22:56:19.091402Z"
    }
   }
  },
  {
   "cell_type": "code",
   "execution_count": 77,
   "outputs": [
    {
     "data": {
      "text/plain": "<Figure size 1000x800 with 2 Axes>",
      "image/png": "[encoded data removed]"
     },
     "metadata": {},
     "output_type": "display_data"
    }
   ],
   "source": [
    "# Extract the scores into a matrix format\n",
    "C_values2 = [2, 10, 50]\n",
    "gamma_values2 = [0.2, 1, 5]\n",
    "svm_cv_scores2 = svm_grid2.cv_results_['mean_test_score'].reshape(len(C_values2), len(gamma_values2))\n",
    "\n",
    "# Plot scores\n",
    "plt.figure(figsize=(10, 8))\n",
    "sns.heatmap(svm_cv_scores2, annot=True, fmt=\".3f\", cmap='viridis', xticklabels=gamma_values2, yticklabels=C_values2)\n",
    "plt.title('Heatmap of Mean Test Scores for SVM GridSearch')\n",
    "plt.xlabel('Gamma')\n",
    "plt.ylabel('C')\n",
    "plt.show()"
   ],
   "metadata": {
    "collapsed": false,
    "ExecuteTime": {
     "end_time": "2023-12-05T22:57:21.138618Z",
     "start_time": "2023-12-05T22:57:20.988895Z"
    }
   }
  },
  {
   "cell_type": "code",
   "execution_count": 83,
   "outputs": [
    {
     "name": "stdout",
     "output_type": "stream",
     "text": [
      "[0.00801499 0.00621611 0.00924338 0.00915205 0.01067708 0.01352627\n",
      " 0.00897552 0.01010742 0.01362938]\n",
      "0.013629380029920668\n"
     ]
    }
   ],
   "source": [
    "stds = svm_grid2.cv_results_[\"std_test_score\"]\n",
    "print(stds)\n",
    "print(np.max(stds))\n",
    "\n",
    "# The standard deviation is more than half as large as the range of the means, so this grid doesn't tell us definitively which of these parameters are the best. However, one thing it does tell us is that further tweaking of these parameters is unlikely to yield big differences in performance (assuming all other factors remain the same). I created this parameter grid around the best parameters from the initial run of GridSearchCV, with C=10 and gamma=1 at the center and smaller variations in parameters around the edges. Therefore, we'll stick with C=10 and gamma=1 for now."
   ],
   "metadata": {
    "collapsed": false,
    "ExecuteTime": {
     "end_time": "2023-12-05T23:03:59.731480Z",
     "start_time": "2023-12-05T23:03:59.727747Z"
    }
   }
  },
  {
   "cell_type": "code",
   "execution_count": 99,
   "outputs": [],
   "source": [
    "# We investigate using a neural network model for better performance.\n",
    "X_train_preprocessed = [preprocess(text) for text in X_train]\n",
    "X_test_preprocessed = [preprocess(text) for text in X_test]"
   ],
   "metadata": {
    "collapsed": false,
    "ExecuteTime": {
     "end_time": "2023-12-06T01:26:42.211479Z",
     "start_time": "2023-12-06T01:26:30.778931Z"
    }
   }
  },
  {
   "cell_type": "code",
   "execution_count": 216,
   "outputs": [
    {
     "name": "stdout",
     "output_type": "stream",
     "text": [
      "241.0\n"
     ]
    },
    {
     "data": {
      "text/plain": "<Figure size 640x480 with 1 Axes>",
      "image/png": "[encoded data removed]"
     },
     "metadata": {},
     "output_type": "display_data"
    }
   ],
   "source": [
    "text_lengths = [len(text) for text in X_train_preprocessed]\n",
    "plt.hist(text_lengths)\n",
    "\n",
    "plt.title(\"Review Length Histogram\")\n",
    "plt.xlabel(\"Review Length (Number of Words)\")\n",
    "plt.ylabel(\"Number of Reviews\")\n",
    "\n",
    "print(np.percentile(text_lengths, 90))\n",
    "\n",
    "\n",
    "# The 90th percentile review in the training dataset is 241 words long. We pad/truncate all reviews to be 250 words in length, just to choose a more round number."
   ],
   "metadata": {
    "collapsed": false,
    "ExecuteTime": {
     "end_time": "2023-12-06T03:35:54.235541Z",
     "start_time": "2023-12-06T03:35:54.144326Z"
    }
   }
  },
  {
   "cell_type": "code",
   "execution_count": 102,
   "outputs": [
    {
     "name": "stdout",
     "output_type": "stream",
     "text": [
      "43281\n",
      "43281\n"
     ]
    }
   ],
   "source": [
    "max_length = 250\n",
    "\n",
    "words = set()\n",
    "\n",
    "for document in X_train_preprocessed:\n",
    "    words.update([word for word in document if word in model.key_to_index])\n",
    "\n",
    "words_sorted = sorted(words)\n",
    "words_sorted.append(\"<UNK>\")\n",
    "# Don't use 0 as a valid word since we're going to pad the sequences\n",
    "word_to_idx = {word: i + 1 for i, word in enumerate(words_sorted)}\n",
    "\n",
    "print(len(words_sorted))\n",
    "print(len(word_to_idx))"
   ],
   "metadata": {
    "collapsed": false,
    "ExecuteTime": {
     "end_time": "2023-12-06T01:29:06.830393Z",
     "start_time": "2023-12-06T01:29:06.444211Z"
    }
   }
  },
  {
   "cell_type": "code",
   "execution_count": 136,
   "outputs": [],
   "source": [
    "num_words = 40000  # Using the 40,000 most common words"
   ],
   "metadata": {
    "collapsed": false,
    "ExecuteTime": {
     "end_time": "2023-12-06T01:50:53.935243Z",
     "start_time": "2023-12-06T01:50:53.911748Z"
    }
   }
  },
  {
   "cell_type": "code",
   "execution_count": 137,
   "outputs": [],
   "source": [
    "# Tokenizing the texts\n",
    "tokenizer = Tokenizer(num_words=num_words)\n",
    "tokenizer.fit_on_texts(X_train_preprocessed)\n",
    "\n",
    "# Convert text to sequence of integers\n",
    "X_train_sequences = tokenizer.texts_to_sequences(X_train_preprocessed)\n",
    "X_test_sequences = tokenizer.texts_to_sequences(X_test_preprocessed)\n",
    "\n",
    "# Pad sequences to ensure uniform length\n",
    "X_train_padded = pad_sequences(X_train_sequences, maxlen=max_length, padding=\"post\", truncating=\"post\")\n",
    "X_test_padded = pad_sequences(X_test_sequences, maxlen=max_length, padding=\"post\", truncating=\"post\")\n",
    "\n",
    "# Convert labels to NumPy array\n",
    "y_train_np = np.array(y_train)\n",
    "y_test_np = np.array(y_test)"
   ],
   "metadata": {
    "collapsed": false,
    "ExecuteTime": {
     "end_time": "2023-12-06T01:50:56.437931Z",
     "start_time": "2023-12-06T01:50:54.383179Z"
    }
   }
  },
  {
   "cell_type": "code",
   "execution_count": 138,
   "outputs": [
    {
     "data": {
      "text/plain": "array([[ 153,  484,  241, ...,    0,    0,    0],\n       [  14,   34,    1, ...,    0,    0,    0],\n       [  33,   18,  597, ...,    0,    0,    0],\n       ...,\n       [ 289,    1,  289, ...,    0,    0,    0],\n       [2473,   94, 6694, ...,    0,    0,    0],\n       [ 496,  809,  888, ...,    0,    0,    0]], dtype=int32)"
     },
     "execution_count": 138,
     "metadata": {},
     "output_type": "execute_result"
    }
   ],
   "source": [
    "X_train_padded"
   ],
   "metadata": {
    "collapsed": false,
    "ExecuteTime": {
     "end_time": "2023-12-06T01:50:56.438146Z",
     "start_time": "2023-12-06T01:50:56.431710Z"
    }
   }
  },
  {
   "cell_type": "code",
   "execution_count": 139,
   "outputs": [
    {
     "data": {
      "text/plain": "array([[  344,    22,  8192, ...,     0,     0,     0],\n       [  993,   154,  3014, ...,     0,     0,     0],\n       [  637, 11222, 11371, ...,     0,     0,     0],\n       ...,\n       [   29,     1,   864, ...,     0,     0,     0],\n       [  580,   100,    86, ...,     0,     0,     0],\n       [   13,  1702,  1984, ...,     0,     0,     0]], dtype=int32)"
     },
     "execution_count": 139,
     "metadata": {},
     "output_type": "execute_result"
    }
   ],
   "source": [
    "X_test_padded"
   ],
   "metadata": {
    "collapsed": false,
    "ExecuteTime": {
     "end_time": "2023-12-06T01:50:56.438209Z",
     "start_time": "2023-12-06T01:50:56.434952Z"
    }
   }
  },
  {
   "cell_type": "code",
   "execution_count": 140,
   "outputs": [],
   "source": [
    "model = Sequential()\n",
    "model.add(Embedding(num_words, 32, input_length=max_length))  # Embedding layer\n",
    "model.add(Flatten())  # Flatten the output\n",
    "model.add(Dense(256, activation='relu'))  # Dense layer with 256 units\n",
    "model.add(Dropout(0.5))  # Dropout for regularization\n",
    "model.add(Dense(1, activation='sigmoid'))  # Output layer\n",
    "\n",
    "model.compile(optimizer='adam',\n",
    "              loss='binary_crossentropy',\n",
    "              metrics=['accuracy'])"
   ],
   "metadata": {
    "collapsed": false,
    "ExecuteTime": {
     "end_time": "2023-12-06T01:50:56.470149Z",
     "start_time": "2023-12-06T01:50:56.439408Z"
    }
   }
  },
  {
   "cell_type": "code",
   "execution_count": 218,
   "outputs": [
    {
     "name": "stdout",
     "output_type": "stream",
     "text": [
      "Epoch 1/10\n",
      "625/625 [==============================] - 3s 5ms/step - loss: 1.5155e-05 - accuracy: 1.0000 - val_loss: 0.7324 - val_accuracy: 0.8642\n",
      "Epoch 2/10\n",
      "625/625 [==============================] - 3s 5ms/step - loss: 1.0884e-05 - accuracy: 1.0000 - val_loss: 0.7494 - val_accuracy: 0.8654\n",
      "Epoch 3/10\n",
      "625/625 [==============================] - 3s 5ms/step - loss: 7.7055e-06 - accuracy: 1.0000 - val_loss: 0.7911 - val_accuracy: 0.8616\n",
      "Epoch 4/10\n",
      "625/625 [==============================] - 3s 5ms/step - loss: 5.6452e-06 - accuracy: 1.0000 - val_loss: 0.7902 - val_accuracy: 0.8644\n",
      "Epoch 5/10\n",
      "625/625 [==============================] - 3s 5ms/step - loss: 4.1427e-06 - accuracy: 1.0000 - val_loss: 0.8148 - val_accuracy: 0.8650\n",
      "Epoch 6/10\n",
      "625/625 [==============================] - 3s 5ms/step - loss: 2.7004e-06 - accuracy: 1.0000 - val_loss: 0.8364 - val_accuracy: 0.8650\n",
      "Epoch 7/10\n",
      "625/625 [==============================] - 3s 5ms/step - loss: 1.7095e-06 - accuracy: 1.0000 - val_loss: 0.8564 - val_accuracy: 0.8644\n",
      "Epoch 8/10\n",
      "625/625 [==============================] - 3s 5ms/step - loss: 1.0818e-06 - accuracy: 1.0000 - val_loss: 0.8751 - val_accuracy: 0.8646\n",
      "Epoch 9/10\n",
      "625/625 [==============================] - 3s 5ms/step - loss: 2.3014e-06 - accuracy: 1.0000 - val_loss: 0.9187 - val_accuracy: 0.8604\n",
      "Epoch 10/10\n",
      "625/625 [==============================] - 3s 5ms/step - loss: 1.1649e-06 - accuracy: 1.0000 - val_loss: 0.9429 - val_accuracy: 0.8610\n"
     ]
    }
   ],
   "source": [
    "history = model.fit(X_train_padded, y_train_np, epochs=10, batch_size=32, validation_split=0.2)"
   ],
   "metadata": {
    "collapsed": false,
    "ExecuteTime": {
     "end_time": "2023-12-06T03:36:53.197031Z",
     "start_time": "2023-12-06T03:36:22.413121Z"
    }
   }
  },
  {
   "cell_type": "code",
   "execution_count": 219,
   "outputs": [],
   "source": [
    "train_loss = history.history['loss']\n",
    "val_loss = history.history['val_loss']\n",
    "epochs = range(1, len(train_loss) + 1)"
   ],
   "metadata": {
    "collapsed": false,
    "ExecuteTime": {
     "end_time": "2023-12-06T03:36:53.197175Z",
     "start_time": "2023-12-06T03:36:53.191535Z"
    }
   }
  },
  {
   "cell_type": "code",
   "execution_count": 220,
   "outputs": [
    {
     "data": {
      "text/plain": "<Figure size 640x480 with 1 Axes>",
      "image/png": "[encoded data removed]"
     },
     "metadata": {},
     "output_type": "display_data"
    }
   ],
   "source": [
    "# Plot training and validation loss and accuracy\n",
    "plt.plot(epochs, train_loss, 'bo', label='Training loss')  # Blue color and dot markers\n",
    "plt.plot(epochs, val_loss, 'b', label='Validation loss')  # Solid blue line\n",
    "plt.plot(epochs, history.history[\"accuracy\"], label=\"Accuracy\")\n",
    "plt.plot(epochs, history.history[\"val_accuracy\"], label=\"Validation accuracy\")\n",
    "plt.title('Training and Validation Loss (First NN Model)')\n",
    "plt.xlabel('Epochs')\n",
    "plt.ylabel('Loss')\n",
    "plt.legend()\n",
    "plt.show()"
   ],
   "metadata": {
    "collapsed": false,
    "ExecuteTime": {
     "end_time": "2023-12-06T03:36:53.282289Z",
     "start_time": "2023-12-06T03:36:53.194254Z"
    }
   }
  },
  {
   "cell_type": "code",
   "execution_count": 149,
   "outputs": [],
   "source": [
    "early_stopping = EarlyStopping(monitor='val_loss', patience=3)  # Stop after 3 epochs with no improvement\n",
    "\n",
    "model2 = Sequential()\n",
    "model2.add(Embedding(num_words, 32, input_length=max_length))  # Embedding layer\n",
    "model2.add(Flatten())  # Flatten the output\n",
    "model2.add(Dense(128, activation='relu', kernel_regularizer=l2(0.01)))  # Add regularization to the dense layer to penalize large weights, and use fewer neurons to reduce complexity\n",
    "model2.add(Dropout(0.6))  # Increase dropout\n",
    "model2.add(Dense(1, activation='sigmoid'))  # Output layer\n",
    "\n",
    "adam = Adam(learning_rate=0.001)  # Start with a smaller learning rate\n",
    "model2.compile(optimizer=adam,\n",
    "              loss='binary_crossentropy',\n",
    "              metrics=['accuracy'])"
   ],
   "metadata": {
    "collapsed": false,
    "ExecuteTime": {
     "end_time": "2023-12-06T02:00:15.418174Z",
     "start_time": "2023-12-06T02:00:15.385076Z"
    }
   }
  },
  {
   "cell_type": "code",
   "execution_count": 150,
   "outputs": [
    {
     "name": "stdout",
     "output_type": "stream",
     "text": [
      "Epoch 1/10\n",
      "625/625 [==============================] - 4s 7ms/step - loss: 0.6194 - accuracy: 0.7775 - val_loss: 0.4854 - val_accuracy: 0.8652\n",
      "Epoch 2/10\n",
      "625/625 [==============================] - 4s 6ms/step - loss: 0.3897 - accuracy: 0.9131 - val_loss: 0.4851 - val_accuracy: 0.8784\n",
      "Epoch 3/10\n",
      "625/625 [==============================] - 4s 6ms/step - loss: 0.2937 - accuracy: 0.9516 - val_loss: 0.4807 - val_accuracy: 0.8714\n",
      "Epoch 4/10\n",
      "625/625 [==============================] - 4s 6ms/step - loss: 0.2172 - accuracy: 0.9753 - val_loss: 0.5201 - val_accuracy: 0.8666\n",
      "Epoch 5/10\n",
      "625/625 [==============================] - 4s 6ms/step - loss: 0.1698 - accuracy: 0.9870 - val_loss: 0.5332 - val_accuracy: 0.8688\n",
      "Epoch 6/10\n",
      "625/625 [==============================] - 4s 6ms/step - loss: 0.1481 - accuracy: 0.9913 - val_loss: 0.5466 - val_accuracy: 0.8610\n"
     ]
    }
   ],
   "source": [
    "history2 = model2.fit(X_train_padded, y_train_np, epochs=10, batch_size=32, validation_split=0.2, callbacks=[early_stopping], shuffle=True)"
   ],
   "metadata": {
    "collapsed": false,
    "ExecuteTime": {
     "end_time": "2023-12-06T02:00:42.103080Z",
     "start_time": "2023-12-06T02:00:17.940199Z"
    }
   }
  },
  {
   "cell_type": "code",
   "execution_count": 157,
   "outputs": [],
   "source": [
    "train_loss2 = history2.history['loss']\n",
    "val_loss2 = history2.history['val_loss']\n",
    "epochs2 = range(1, len(train_loss2) + 1)"
   ],
   "metadata": {
    "collapsed": false,
    "ExecuteTime": {
     "end_time": "2023-12-06T02:03:30.885825Z",
     "start_time": "2023-12-06T02:03:30.873402Z"
    }
   }
  },
  {
   "cell_type": "code",
   "execution_count": 221,
   "outputs": [
    {
     "data": {
      "text/plain": "<Figure size 640x480 with 1 Axes>",
      "image/png": "[encoded data removed]"
     },
     "metadata": {},
     "output_type": "display_data"
    }
   ],
   "source": [
    "# Plot training and validation loss and accuracy\n",
    "plt.plot(epochs2, train_loss2, 'bo', label='Training loss')  # Blue color and dot markers\n",
    "plt.plot(epochs2, val_loss2, 'b', label='Validation loss')  # Solid blue line\n",
    "plt.plot(epochs2, history2.history[\"accuracy\"], label=\"Accuracy\")\n",
    "plt.plot(epochs2, history2.history[\"val_accuracy\"], label=\"Validation accuracy\")\n",
    "plt.title('Training and Validation Loss (Second NN Model)')\n",
    "plt.xlabel('Epochs')\n",
    "plt.ylabel('Loss')\n",
    "plt.ylim(bottom=0)\n",
    "plt.legend()\n",
    "plt.show()"
   ],
   "metadata": {
    "collapsed": false,
    "ExecuteTime": {
     "end_time": "2023-12-06T03:37:22.272625Z",
     "start_time": "2023-12-06T03:37:22.194967Z"
    }
   }
  },
  {
   "cell_type": "code",
   "execution_count": 164,
   "outputs": [
    {
     "data": {
      "text/plain": "[<matplotlib.lines.Line2D at 0x2b627cd10>]"
     },
     "execution_count": 164,
     "metadata": {},
     "output_type": "execute_result"
    },
    {
     "data": {
      "text/plain": "<Figure size 640x480 with 1 Axes>",
      "image/png": "[encoded data removed]"
     },
     "metadata": {},
     "output_type": "display_data"
    }
   ],
   "source": [
    "plt.plot(history2.history[\"val_accuracy\"])"
   ],
   "metadata": {
    "collapsed": false,
    "ExecuteTime": {
     "end_time": "2023-12-06T02:05:54.544759Z",
     "start_time": "2023-12-06T02:05:54.471375Z"
    }
   }
  },
  {
   "cell_type": "code",
   "execution_count": 181,
   "outputs": [],
   "source": [
    "def create_model():\n",
    "    nn_model = Sequential()\n",
    "    nn_model.add(Embedding(num_words, 32, input_length=max_length))\n",
    "    nn_model.add(Flatten())\n",
    "    nn_model.add(Dense(128, activation='relu', kernel_regularizer=l2(0.01)))\n",
    "    nn_model.add(Dropout(0.6))\n",
    "    nn_model.add(Dense(1, activation='sigmoid'))\n",
    "    # adam = Adam(learning_rate=0.001)\n",
    "    nn_model.compile(optimizer='adam',\n",
    "                  loss='binary_crossentropy',\n",
    "                  metrics=['accuracy'])\n",
    "    return nn_model\n",
    "\n",
    "nn_model_classifier = KerasClassifier(build_fn=create_model, epochs=2, batch_size=32, verbose=2, shuffle=True)  # Reduce to 2 epochs since the model seems to overfit after that\n",
    "kfold = StratifiedKFold(n_splits=5, shuffle=True, random_state=42)  # Retains approximate 50/50 class distribution within each fold"
   ],
   "metadata": {
    "collapsed": false,
    "ExecuteTime": {
     "end_time": "2023-12-06T02:19:22.780849Z",
     "start_time": "2023-12-06T02:19:22.774868Z"
    }
   }
  },
  {
   "cell_type": "code",
   "execution_count": 182,
   "outputs": [
    {
     "name": "stdout",
     "output_type": "stream",
     "text": [
      "Epoch 1/2\n"
     ]
    },
    {
     "name": "stderr",
     "output_type": "stream",
     "text": [
      "/Library/Frameworks/Python.framework/Versions/3.11/lib/python3.11/site-packages/scikeras/wrappers.py:915: UserWarning: ``build_fn`` will be renamed to ``model`` in a future release, at which point use of ``build_fn`` will raise an Error instead.\n",
      "  X, y = self._initialize(X, y)\n"
     ]
    },
    {
     "name": "stdout",
     "output_type": "stream",
     "text": [
      "625/625 - 3s - loss: 0.6351 - accuracy: 0.7627 - 3s/epoch - 6ms/step\n",
      "Epoch 2/2\n",
      "625/625 - 3s - loss: 0.4013 - accuracy: 0.9124 - 3s/epoch - 5ms/step\n",
      "157/157 - 0s - 118ms/epoch - 749us/step\n",
      "Epoch 1/2\n"
     ]
    },
    {
     "name": "stderr",
     "output_type": "stream",
     "text": [
      "/Library/Frameworks/Python.framework/Versions/3.11/lib/python3.11/site-packages/scikeras/wrappers.py:915: UserWarning: ``build_fn`` will be renamed to ``model`` in a future release, at which point use of ``build_fn`` will raise an Error instead.\n",
      "  X, y = self._initialize(X, y)\n"
     ]
    },
    {
     "name": "stdout",
     "output_type": "stream",
     "text": [
      "625/625 - 3s - loss: 0.6375 - accuracy: 0.7503 - 3s/epoch - 5ms/step\n",
      "Epoch 2/2\n",
      "625/625 - 3s - loss: 0.3955 - accuracy: 0.9093 - 3s/epoch - 5ms/step\n",
      "157/157 - 0s - 121ms/epoch - 768us/step\n",
      "Epoch 1/2\n"
     ]
    },
    {
     "name": "stderr",
     "output_type": "stream",
     "text": [
      "/Library/Frameworks/Python.framework/Versions/3.11/lib/python3.11/site-packages/scikeras/wrappers.py:915: UserWarning: ``build_fn`` will be renamed to ``model`` in a future release, at which point use of ``build_fn`` will raise an Error instead.\n",
      "  X, y = self._initialize(X, y)\n"
     ]
    },
    {
     "name": "stdout",
     "output_type": "stream",
     "text": [
      "625/625 - 3s - loss: 0.6299 - accuracy: 0.7693 - 3s/epoch - 6ms/step\n",
      "Epoch 2/2\n",
      "625/625 - 3s - loss: 0.3927 - accuracy: 0.9118 - 3s/epoch - 5ms/step\n",
      "157/157 - 0s - 118ms/epoch - 754us/step\n",
      "Epoch 1/2\n"
     ]
    },
    {
     "name": "stderr",
     "output_type": "stream",
     "text": [
      "/Library/Frameworks/Python.framework/Versions/3.11/lib/python3.11/site-packages/scikeras/wrappers.py:915: UserWarning: ``build_fn`` will be renamed to ``model`` in a future release, at which point use of ``build_fn`` will raise an Error instead.\n",
      "  X, y = self._initialize(X, y)\n"
     ]
    },
    {
     "name": "stdout",
     "output_type": "stream",
     "text": [
      "625/625 - 3s - loss: 0.6242 - accuracy: 0.7660 - 3s/epoch - 5ms/step\n",
      "Epoch 2/2\n",
      "625/625 - 3s - loss: 0.3938 - accuracy: 0.9148 - 3s/epoch - 5ms/step\n",
      "157/157 - 0s - 126ms/epoch - 804us/step\n",
      "Epoch 1/2\n"
     ]
    },
    {
     "name": "stderr",
     "output_type": "stream",
     "text": [
      "/Library/Frameworks/Python.framework/Versions/3.11/lib/python3.11/site-packages/scikeras/wrappers.py:915: UserWarning: ``build_fn`` will be renamed to ``model`` in a future release, at which point use of ``build_fn`` will raise an Error instead.\n",
      "  X, y = self._initialize(X, y)\n"
     ]
    },
    {
     "name": "stdout",
     "output_type": "stream",
     "text": [
      "625/625 - 3s - loss: 0.6310 - accuracy: 0.7746 - 3s/epoch - 5ms/step\n",
      "Epoch 2/2\n",
      "625/625 - 3s - loss: 0.4023 - accuracy: 0.9121 - 3s/epoch - 5ms/step\n",
      "157/157 - 0s - 123ms/epoch - 783us/step\n"
     ]
    }
   ],
   "source": [
    "# Perform cross-validation\n",
    "cv_scores = cross_val_score(nn_model_classifier, X_train_padded, y_train_np, cv=kfold)"
   ],
   "metadata": {
    "collapsed": false,
    "ExecuteTime": {
     "end_time": "2023-12-06T02:19:56.894713Z",
     "start_time": "2023-12-06T02:19:23.583010Z"
    }
   }
  },
  {
   "cell_type": "code",
   "execution_count": 183,
   "outputs": [
    {
     "data": {
      "text/plain": "array([0.8866, 0.8764, 0.8822, 0.8802, 0.8796])"
     },
     "execution_count": 183,
     "metadata": {},
     "output_type": "execute_result"
    }
   ],
   "source": [
    "cv_scores"
   ],
   "metadata": {
    "collapsed": false,
    "ExecuteTime": {
     "end_time": "2023-12-06T02:20:05.222660Z",
     "start_time": "2023-12-06T02:20:05.215250Z"
    }
   }
  },
  {
   "cell_type": "code",
   "execution_count": 184,
   "outputs": [
    {
     "data": {
      "text/plain": "0.881"
     },
     "execution_count": 184,
     "metadata": {},
     "output_type": "execute_result"
    }
   ],
   "source": [
    "# This is the best performance of all the models so far, so we train it on the full train dataset and analyze it on the test dataset.\n",
    "np.mean(cv_scores)"
   ],
   "metadata": {
    "collapsed": false,
    "ExecuteTime": {
     "end_time": "2023-12-06T02:20:06.775596Z",
     "start_time": "2023-12-06T02:20:06.741961Z"
    }
   }
  },
  {
   "cell_type": "code",
   "execution_count": 185,
   "outputs": [
    {
     "data": {
      "text/plain": "0.003363331681532491"
     },
     "execution_count": 185,
     "metadata": {},
     "output_type": "execute_result"
    }
   ],
   "source": [
    "np.std(cv_scores)"
   ],
   "metadata": {
    "collapsed": false,
    "ExecuteTime": {
     "end_time": "2023-12-06T02:20:19.621826Z",
     "start_time": "2023-12-06T02:20:19.616983Z"
    }
   }
  },
  {
   "cell_type": "code",
   "execution_count": 187,
   "outputs": [
    {
     "name": "stdout",
     "output_type": "stream",
     "text": [
      "Epoch 1/2\n",
      "782/782 - 5s - loss: 0.5992 - accuracy: 0.7832 - 5s/epoch - 6ms/step\n",
      "Epoch 2/2\n",
      "782/782 - 4s - loss: 0.3824 - accuracy: 0.9141 - 4s/epoch - 5ms/step\n"
     ]
    },
    {
     "data": {
      "text/plain": "<keras.src.callbacks.History at 0x2fecf1b90>"
     },
     "execution_count": 187,
     "metadata": {},
     "output_type": "execute_result"
    }
   ],
   "source": [
    "final_model = create_model()\n",
    "final_model.fit(X_train_padded, y_train, epochs=2, batch_size=32, verbose=2, shuffle=True)"
   ],
   "metadata": {
    "collapsed": false,
    "ExecuteTime": {
     "end_time": "2023-12-06T02:24:21.901931Z",
     "start_time": "2023-12-06T02:24:13.424489Z"
    }
   }
  },
  {
   "cell_type": "code",
   "execution_count": 205,
   "outputs": [
    {
     "name": "stdout",
     "output_type": "stream",
     "text": [
      "782/782 [==============================] - 1s 729us/step\n"
     ]
    }
   ],
   "source": [
    "# Make predictions\n",
    "predictions = final_model.predict(X_test_padded)\n",
    "binary_predictions = (predictions > 0.5).astype(\"int32\")"
   ],
   "metadata": {
    "collapsed": false,
    "ExecuteTime": {
     "end_time": "2023-12-06T02:32:42.294375Z",
     "start_time": "2023-12-06T02:32:41.642891Z"
    }
   }
  },
  {
   "cell_type": "code",
   "execution_count": 206,
   "outputs": [
    {
     "data": {
      "text/plain": "array([[0],\n       [0],\n       [0],\n       ...,\n       [0],\n       [0],\n       [0]], dtype=int32)"
     },
     "execution_count": 206,
     "metadata": {},
     "output_type": "execute_result"
    }
   ],
   "source": [
    "binary_predictions"
   ],
   "metadata": {
    "collapsed": false,
    "ExecuteTime": {
     "end_time": "2023-12-06T02:32:42.399092Z",
     "start_time": "2023-12-06T02:32:42.390235Z"
    }
   }
  },
  {
   "cell_type": "code",
   "execution_count": 207,
   "outputs": [
    {
     "name": "stdout",
     "output_type": "stream",
     "text": [
      "Accuracy: 0.8622\n"
     ]
    }
   ],
   "source": [
    "accuracy = np.mean(binary_predictions.flatten() == y_test)\n",
    "print(f\"Accuracy: {accuracy}\")"
   ],
   "metadata": {
    "collapsed": false,
    "ExecuteTime": {
     "end_time": "2023-12-06T02:32:43.282796Z",
     "start_time": "2023-12-06T02:32:43.277825Z"
    }
   }
  },
  {
   "cell_type": "code",
   "execution_count": 208,
   "outputs": [
    {
     "name": "stdout",
     "output_type": "stream",
     "text": [
      "              precision    recall  f1-score   support\n",
      "\n",
      "           0       0.86      0.87      0.86     12500\n",
      "           1       0.87      0.86      0.86     12500\n",
      "\n",
      "    accuracy                           0.86     25000\n",
      "   macro avg       0.86      0.86      0.86     25000\n",
      "weighted avg       0.86      0.86      0.86     25000\n",
      "\n"
     ]
    }
   ],
   "source": [
    "report = classification_report(y_test, binary_predictions)\n",
    "print(report)"
   ],
   "metadata": {
    "collapsed": false,
    "ExecuteTime": {
     "end_time": "2023-12-06T02:32:43.868977Z",
     "start_time": "2023-12-06T02:32:43.841052Z"
    }
   }
  },
  {
   "cell_type": "code",
   "execution_count": 213,
   "outputs": [
    {
     "name": "stdout",
     "output_type": "stream",
     "text": [
      "[[10865  1635]\n",
      " [ 1810 10690]]\n"
     ]
    }
   ],
   "source": [
    "# Generate a confusion matrix\n",
    "conf_matrix = confusion_matrix(y_test, binary_predictions)\n",
    "print(conf_matrix)"
   ],
   "metadata": {
    "collapsed": false,
    "ExecuteTime": {
     "end_time": "2023-12-06T02:34:19.592480Z",
     "start_time": "2023-12-06T02:34:19.583752Z"
    }
   }
  }
 ],
 "metadata": {
  "kernelspec": {
   "display_name": "Python 3",
   "language": "python",
   "name": "python3"
  },
  "language_info": {
   "codemirror_mode": {
    "name": "ipython",
    "version": 2
   },
   "file_extension": ".py",
   "mimetype": "text/x-python",
   "name": "python",
   "nbconvert_exporter": "python",
   "pygments_lexer": "ipython2",
   "version": "2.7.6"
  }
 },
 "nbformat": 4,
 "nbformat_minor": 0
}
